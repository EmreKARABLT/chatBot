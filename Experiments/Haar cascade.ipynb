{
 "cells": [
  {
   "attachments": {},
   "cell_type": "markdown",
   "id": "38c408ab",
   "metadata": {},
   "source": [
    "## Haar Cascade"
   ]
  },
  {
   "cell_type": "code",
   "execution_count": 2,
   "id": "cd7b370a",
   "metadata": {},
   "outputs": [],
   "source": [
    "import cv2\n",
    "import numpy as np\n",
    "\n",
    "# import HAAR cascade XML file\n",
    "face_cascade = cv2.CascadeClassifier('haarcascade_frontalface_default.xml')\n",
    "eye_cascade = cv2.CascadeClassifier('haarcascade_eye.xml')\n",
    "# capture video from web camera\n",
    "cap = cv2.VideoCapture(0)\n",
    "\n",
    "\n",
    "# use loop to capture frame by frame\n",
    "while(True):\n",
    "\n",
    "    ret_val, frame = cap.read()\n",
    "    \n",
    "    # convert frame to greyscale\n",
    "    gray = cv2.cvtColor(frame, cv2.COLOR_BGR2GRAY)\n",
    "        \n",
    "    # detect faces and return their coordinates\n",
    "    face_coordinates = face_cascade.detectMultiScale(gray, scaleFactor=1.2, minNeighbors=5, minSize=(10,10))\n",
    "    \n",
    "    # create a rectangle around each detected face \n",
    "    for(x,y,w,h) in face_coordinates:\n",
    "        cv2.rectangle(frame, (x,y), (x+w,y+h), (0,0,250), thickness=2)\n",
    "\n",
    "        roi_gray = gray[y:y+h, x:x+w]\n",
    "        roi_color = frame[y:y+h, x:x+w]\n",
    "\n",
    "        # detect eyes and return their coordinates\n",
    "        eye_coordinates = eye_cascade.detectMultiScale(roi_gray, scaleFactor=1.2, minNeighbors=5, minSize=(10,10))\n",
    "\n",
    "        # create a rectangle around each detected eye\n",
    "        for(ex,ey,ew,eh) in eye_coordinates:\n",
    "            cv2.rectangle(roi_color, (ex,ey), (ex+ew,ey+eh), (0,250,0), thickness=2)\n",
    "\n",
    "    \n",
    "    # display the frame with detected faces\n",
    "    cv2.imshow('Face recognition', frame)\n",
    "    \n",
    "    # wait for q key to be pressed to end the face detection screen\n",
    "    if cv2.waitKey(1) & 0xFF == ord('q'):\n",
    "        break\n",
    "\n",
    "# release capture\n",
    "cap.release()\n",
    "cv2.destroyAllWindows()"
   ]
  },
  {
   "cell_type": "code",
   "execution_count": null,
   "id": "dc20a8b5",
   "metadata": {},
   "outputs": [],
   "source": []
  },
  {
   "cell_type": "code",
   "execution_count": 4,
   "id": "ba912a29",
   "metadata": {},
   "outputs": [
    {
     "ename": "error",
     "evalue": "OpenCV(4.7.0) D:\\a\\opencv-python\\opencv-python\\opencv\\modules\\highgui\\src\\window.cpp:971: error: (-215:Assertion failed) size.width>0 && size.height>0 in function 'cv::imshow'\n",
     "output_type": "error",
     "traceback": [
      "\u001b[1;31m---------------------------------------------------------------------------\u001b[0m",
      "\u001b[1;31merror\u001b[0m                                     Traceback (most recent call last)",
      "\u001b[1;32mc:\\Users\\Asus\\Documents\\UM\\Year2\\Project 2-2\\chatBot\\Experiments\\Haar cascade.ipynb Cell 3\u001b[0m in \u001b[0;36m1\n\u001b[0;32m     <a href='vscode-notebook-cell:/c%3A/Users/Asus/Documents/UM/Year2/Project%202-2/chatBot/Experiments/Haar%20cascade.ipynb#W2sZmlsZQ%3D%3D?line=10'>11</a>\u001b[0m ret, frame \u001b[39m=\u001b[39m vid\u001b[39m.\u001b[39mread()\n\u001b[0;32m     <a href='vscode-notebook-cell:/c%3A/Users/Asus/Documents/UM/Year2/Project%202-2/chatBot/Experiments/Haar%20cascade.ipynb#W2sZmlsZQ%3D%3D?line=12'>13</a>\u001b[0m \u001b[39m# Display the resulting frame\u001b[39;00m\n\u001b[1;32m---> <a href='vscode-notebook-cell:/c%3A/Users/Asus/Documents/UM/Year2/Project%202-2/chatBot/Experiments/Haar%20cascade.ipynb#W2sZmlsZQ%3D%3D?line=13'>14</a>\u001b[0m cv2\u001b[39m.\u001b[39;49mimshow(\u001b[39m'\u001b[39;49m\u001b[39mframe\u001b[39;49m\u001b[39m'\u001b[39;49m, frame)\n\u001b[0;32m     <a href='vscode-notebook-cell:/c%3A/Users/Asus/Documents/UM/Year2/Project%202-2/chatBot/Experiments/Haar%20cascade.ipynb#W2sZmlsZQ%3D%3D?line=15'>16</a>\u001b[0m \u001b[39m# the 'q' button is set as the\u001b[39;00m\n\u001b[0;32m     <a href='vscode-notebook-cell:/c%3A/Users/Asus/Documents/UM/Year2/Project%202-2/chatBot/Experiments/Haar%20cascade.ipynb#W2sZmlsZQ%3D%3D?line=16'>17</a>\u001b[0m \u001b[39m# quitting button you may use any\u001b[39;00m\n\u001b[0;32m     <a href='vscode-notebook-cell:/c%3A/Users/Asus/Documents/UM/Year2/Project%202-2/chatBot/Experiments/Haar%20cascade.ipynb#W2sZmlsZQ%3D%3D?line=17'>18</a>\u001b[0m \u001b[39m# desired button of your choice\u001b[39;00m\n\u001b[0;32m     <a href='vscode-notebook-cell:/c%3A/Users/Asus/Documents/UM/Year2/Project%202-2/chatBot/Experiments/Haar%20cascade.ipynb#W2sZmlsZQ%3D%3D?line=18'>19</a>\u001b[0m \u001b[39mif\u001b[39;00m cv2\u001b[39m.\u001b[39mwaitKey(\u001b[39m1\u001b[39m) \u001b[39m&\u001b[39m \u001b[39m0xFF\u001b[39m \u001b[39m==\u001b[39m \u001b[39mord\u001b[39m(\u001b[39m'\u001b[39m\u001b[39mq\u001b[39m\u001b[39m'\u001b[39m):\n",
      "\u001b[1;31merror\u001b[0m: OpenCV(4.7.0) D:\\a\\opencv-python\\opencv-python\\opencv\\modules\\highgui\\src\\window.cpp:971: error: (-215:Assertion failed) size.width>0 && size.height>0 in function 'cv::imshow'\n"
     ]
    }
   ],
   "source": [
    "# import the opencv library\n",
    "import cv2\n",
    "\n",
    "# define a video capture object\n",
    "vid = cv2.VideoCapture(0)\n",
    "  \n",
    "while(True):\n",
    "      \n",
    "    # Capture the video frame\n",
    "    # by frame\n",
    "    ret, frame = vid.read()\n",
    "  \n",
    "\n",
    "\n",
    "  \n",
    "    # Display the resulting frame\n",
    "    cv2.imshow('frame', frame)\n",
    "      \n",
    "    # the 'q' button is set as the\n",
    "    # quitting button you may use any\n",
    "    # desired button of your choice\n",
    "    if cv2.waitKey(1) & 0xFF == ord('q'):\n",
    "        break\n",
    "  \n",
    "# After the loop release the cap object\n",
    "vid.release()\n",
    "# Destroy all the windows\n",
    "cv2.destroyAllWindows()"
   ]
  },
  {
   "cell_type": "code",
   "execution_count": 2,
   "id": "763da34c",
   "metadata": {},
   "outputs": [
    {
     "ename": "KeyboardInterrupt",
     "evalue": "",
     "output_type": "error",
     "traceback": [
      "\u001b[1;31m---------------------------------------------------------------------------\u001b[0m",
      "\u001b[1;31mKeyboardInterrupt\u001b[0m                         Traceback (most recent call last)",
      "\u001b[1;32mc:\\Users\\Asus\\Documents\\UM\\Year2\\Project 2-2\\chatBot\\Experiments\\Haar cascade.ipynb Cell 4\u001b[0m in \u001b[0;36m1\n\u001b[0;32m      <a href='vscode-notebook-cell:/c%3A/Users/Asus/Documents/UM/Year2/Project%202-2/chatBot/Experiments/Haar%20cascade.ipynb#W3sZmlsZQ%3D%3D?line=6'>7</a>\u001b[0m \u001b[39m# use loop to capture frame by frame\u001b[39;00m\n\u001b[0;32m      <a href='vscode-notebook-cell:/c%3A/Users/Asus/Documents/UM/Year2/Project%202-2/chatBot/Experiments/Haar%20cascade.ipynb#W3sZmlsZQ%3D%3D?line=7'>8</a>\u001b[0m \u001b[39mwhile\u001b[39;00m(\u001b[39mTrue\u001b[39;00m):\n\u001b[1;32m---> <a href='vscode-notebook-cell:/c%3A/Users/Asus/Documents/UM/Year2/Project%202-2/chatBot/Experiments/Haar%20cascade.ipynb#W3sZmlsZQ%3D%3D?line=9'>10</a>\u001b[0m     ret_val, frame \u001b[39m=\u001b[39m cap\u001b[39m.\u001b[39;49mread()\n\u001b[0;32m     <a href='vscode-notebook-cell:/c%3A/Users/Asus/Documents/UM/Year2/Project%202-2/chatBot/Experiments/Haar%20cascade.ipynb#W3sZmlsZQ%3D%3D?line=11'>12</a>\u001b[0m     \u001b[39m# convert frame to YCrCb color space\u001b[39;00m\n\u001b[0;32m     <a href='vscode-notebook-cell:/c%3A/Users/Asus/Documents/UM/Year2/Project%202-2/chatBot/Experiments/Haar%20cascade.ipynb#W3sZmlsZQ%3D%3D?line=12'>13</a>\u001b[0m     ycbcr \u001b[39m=\u001b[39m cv2\u001b[39m.\u001b[39mcvtColor(frame, cv2\u001b[39m.\u001b[39mCOLOR_BGR2YCrCb)\n",
      "\u001b[1;31mKeyboardInterrupt\u001b[0m: "
     ]
    }
   ],
   "source": [
    "import cv2\n",
    "import numpy as np\n",
    "\n",
    "# capture video from web camera\n",
    "cap = cv2.VideoCapture(0)\n",
    "\n",
    "# use loop to capture frame by frame\n",
    "while(True):\n",
    "\n",
    "    ret_val, frame = cap.read()\n",
    "    \n",
    "    # convert frame to YCrCb color space\n",
    "    ycbcr = cv2.cvtColor(frame, cv2.COLOR_BGR2YCrCb)\n",
    "    \n",
    "    # define bounds for skin color in YCrCb color space\n",
    "    lower_skin = np.array([0, 135, 85])\n",
    "    upper_skin = np.array([255, 180, 135])\n",
    "\n",
    "    # threshold the image using the bounds above\n",
    "    thresh = cv2.inRange(ycbcr, lower_skin, upper_skin)\n",
    "    \n",
    "    # remove noise using morphological operations\n",
    "    kernel = cv2.getStructuringElement(cv2.MORPH_ELLIPSE, (15,15))\n",
    "    mask = cv2.morphologyEx(thresh, cv2.MORPH_OPEN, kernel)\n",
    "    mask = cv2.morphologyEx(mask, cv2.MORPH_CLOSE, kernel)\n",
    "    \n",
    "    # find contours in the mask\n",
    "    contours, hierarchy = cv2.findContours(mask, cv2.RETR_EXTERNAL, cv2.CHAIN_APPROX_SIMPLE)\n",
    "    \n",
    "    # set minimum and maximum width and height to help get rid of false positives\n",
    "    min_face_size = 100\n",
    "    max_face_size = 500\n",
    "    \n",
    "    # loop over all contours\n",
    "    for cnt in contours:\n",
    "        # get bounding rectangles for contours and compute their aspect ratio \n",
    "        x,y,w,h = cv2.boundingRect(cnt)\n",
    "        aspect_ratio = float(w)/h\n",
    "        \n",
    "        # if aspect ratio is in a typical range from human faces and rectangle is in the right size range, draw rectangle\n",
    "        if min_face_size < w < max_face_size and min_face_size < h < max_face_size and 0.5 <= aspect_ratio <= 1.8:\n",
    "                cv2.rectangle(frame, (x,y), (x+w,y+h), (0,0,250), thickness=2)\n",
    "        \n",
    "    # display the frame with detected faces\n",
    "    cv2.imshow('Face recognition', frame)\n",
    "    \n",
    "    # wait for q key to be pressed to end the face detection screen\n",
    "    if cv2.waitKey(1) & 0xFF == ord('q'):\n",
    "        break\n",
    "\n",
    "# release capture\n"
   ]
  },
  {
   "cell_type": "code",
   "execution_count": 3,
   "id": "911d7746",
   "metadata": {},
   "outputs": [],
   "source": [
    "\n",
    "cap.release()\n",
    "cv2.destroyAllWindows()"
   ]
  }
 ],
 "metadata": {
  "kernelspec": {
   "display_name": "Python 3 (ipykernel)",
   "language": "python",
   "name": "python3"
  },
  "language_info": {
   "codemirror_mode": {
    "name": "ipython",
    "version": 3
   },
   "file_extension": ".py",
   "mimetype": "text/x-python",
   "name": "python",
   "nbconvert_exporter": "python",
   "pygments_lexer": "ipython3",
   "version": "3.10.9"
  }
 },
 "nbformat": 4,
 "nbformat_minor": 5
}
