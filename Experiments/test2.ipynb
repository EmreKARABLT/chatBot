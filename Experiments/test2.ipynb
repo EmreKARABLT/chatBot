{
 "cells": [
  {
   "attachments": {},
   "cell_type": "markdown",
   "metadata": {},
   "source": []
  },
  {
   "cell_type": "code",
   "execution_count": 1,
   "metadata": {},
   "outputs": [],
   "source": [
    "import cv2 as cv\n",
    "import numpy as np\n",
    "import sys"
   ]
  },
  {
   "cell_type": "code",
   "execution_count": 2,
   "metadata": {},
   "outputs": [
    {
     "name": "stderr",
     "output_type": "stream",
     "text": [
      "Found cached dataset wider_face (C:/Users/Asus/.cache/huggingface/datasets/wider_face/default/1.0.0/b87ac8d8d65665ec6e3c2a5c6ec08d6fddb1b0f2d7f2dc3b5dcecdaf12adf22f)\n"
     ]
    },
    {
     "data": {
      "application/vnd.jupyter.widget-view+json": {
       "model_id": "ed826d9657b342a1906c5b9e3028689c",
       "version_major": 2,
       "version_minor": 0
      },
      "text/plain": [
       "  0%|          | 0/3 [00:00<?, ?it/s]"
      ]
     },
     "metadata": {},
     "output_type": "display_data"
    }
   ],
   "source": [
    "from datasets import load_dataset\n",
    "\n",
    "dataset = load_dataset(\"wider_face\")"
   ]
  },
  {
   "cell_type": "code",
   "execution_count": 3,
   "metadata": {},
   "outputs": [],
   "source": [
    "def pimToCV(pim):\n",
    "    nimg = np.array(pim)\n",
    "    img = cv.cvtColor(nimg, cv.COLOR_RGB2BGR)\n",
    "    return img"
   ]
  },
  {
   "cell_type": "code",
   "execution_count": 4,
   "metadata": {},
   "outputs": [],
   "source": [
    "def parseDataset(dataset, singleFace, pose, size):\n",
    "    \n",
    "    output = []\n",
    "    # for i in range(1000):\n",
    "    for i in range(len(dataset)):\n",
    "        try:\n",
    "            if(singleFace):\n",
    "                if len(dataset[i][\"faces\"][\"bbox\"]) == 1:\n",
    "                    output.append(dataset[i])\n",
    "            else:\n",
    "                output.append(dataset[i])\n",
    "            \n",
    "            \n",
    "        except:\n",
    "            print(\"An exception occurred at index: \", i)\n",
    "            \n",
    "    if(pose == \"easy\"): \n",
    "        deletedCount = 0;\n",
    "        for i in range(len(output)):\n",
    "            \n",
    "            cur = output[i-deletedCount]\n",
    "            \n",
    "            for j in range(len(cur[\"faces\"][\"pose\"])):\n",
    "                if cur[\"faces\"][\"pose\"][j] == 1:\n",
    "                    output.pop(i-deletedCount);\n",
    "                    deletedCount += 1\n",
    "                    break;\n",
    "    \n",
    "                \n",
    "    size_threshold = 0\n",
    "    if(size == \"small\"):\n",
    "        size_threshold = 10\n",
    "    if(size == \"medium\"):\n",
    "        size_threshold = 50\n",
    "    if(size == \"large\"):\n",
    "        size_threshold = 300\n",
    "    \n",
    "    deletedCount = 0;\n",
    "    for i in range(len(output)):\n",
    "            \n",
    "        cur = output[i-deletedCount]\n",
    "            \n",
    "        for j in range(len(cur[\"faces\"][\"bbox\"])):\n",
    "            if cur[\"faces\"][\"bbox\"][j][3] < size_threshold:\n",
    "                output.pop(i-deletedCount);\n",
    "                deletedCount += 1\n",
    "                break;\n",
    "            if cur[\"faces\"][\"occlusion\"][j] != 0:\n",
    "                output.pop(i-deletedCount);\n",
    "                deletedCount += 1\n",
    "                break;\n",
    "\n",
    "\n",
    "            \n",
    "    return output\n"
   ]
  },
  {
   "cell_type": "code",
   "execution_count": 20,
   "metadata": {},
   "outputs": [
    {
     "name": "stdout",
     "output_type": "stream",
     "text": [
      "An exception occurred at index:  581\n",
      "An exception occurred at index:  582\n",
      "An exception occurred at index:  586\n",
      "An exception occurred at index:  590\n",
      "An exception occurred at index:  600\n",
      "An exception occurred at index:  604\n",
      "An exception occurred at index:  605\n",
      "An exception occurred at index:  607\n",
      "An exception occurred at index:  610\n",
      "An exception occurred at index:  613\n",
      "An exception occurred at index:  614\n",
      "An exception occurred at index:  615\n",
      "An exception occurred at index:  624\n",
      "An exception occurred at index:  625\n",
      "An exception occurred at index:  627\n",
      "An exception occurred at index:  631\n",
      "An exception occurred at index:  632\n",
      "An exception occurred at index:  636\n",
      "An exception occurred at index:  638\n",
      "An exception occurred at index:  639\n",
      "An exception occurred at index:  642\n",
      "An exception occurred at index:  643\n",
      "An exception occurred at index:  645\n",
      "An exception occurred at index:  650\n",
      "An exception occurred at index:  660\n",
      "An exception occurred at index:  664\n",
      "An exception occurred at index:  667\n",
      "An exception occurred at index:  668\n",
      "An exception occurred at index:  670\n",
      "An exception occurred at index:  677\n",
      "An exception occurred at index:  679\n",
      "An exception occurred at index:  680\n",
      "An exception occurred at index:  684\n",
      "An exception occurred at index:  685\n",
      "An exception occurred at index:  687\n",
      "An exception occurred at index:  690\n",
      "An exception occurred at index:  692\n",
      "An exception occurred at index:  703\n",
      "An exception occurred at index:  709\n",
      "An exception occurred at index:  710\n",
      "An exception occurred at index:  712\n",
      "An exception occurred at index:  718\n",
      "An exception occurred at index:  723\n",
      "An exception occurred at index:  727\n",
      "An exception occurred at index:  730\n",
      "An exception occurred at index:  737\n",
      "An exception occurred at index:  742\n",
      "An exception occurred at index:  749\n",
      "An exception occurred at index:  750\n",
      "An exception occurred at index:  751\n",
      "An exception occurred at index:  757\n",
      "An exception occurred at index:  761\n",
      "An exception occurred at index:  762\n",
      "An exception occurred at index:  763\n",
      "An exception occurred at index:  765\n",
      "An exception occurred at index:  774\n",
      "An exception occurred at index:  780\n",
      "An exception occurred at index:  790\n",
      "An exception occurred at index:  791\n",
      "An exception occurred at index:  796\n",
      "An exception occurred at index:  802\n",
      "1241\n"
     ]
    }
   ],
   "source": [
    "parsedDataset = parseDataset(dataset[\"train\"], True, \"easy\", \"large\")\n",
    "print(len(parsedDataset))"
   ]
  },
  {
   "cell_type": "code",
   "execution_count": 14,
   "metadata": {},
   "outputs": [
    {
     "name": "stdout",
     "output_type": "stream",
     "text": [
      "An exception occurred at index:  581\n",
      "An exception occurred at index:  582\n",
      "An exception occurred at index:  586\n",
      "An exception occurred at index:  590\n",
      "An exception occurred at index:  600\n",
      "An exception occurred at index:  604\n",
      "An exception occurred at index:  605\n",
      "An exception occurred at index:  607\n",
      "An exception occurred at index:  610\n",
      "An exception occurred at index:  613\n",
      "An exception occurred at index:  614\n",
      "An exception occurred at index:  615\n",
      "An exception occurred at index:  624\n",
      "An exception occurred at index:  625\n",
      "An exception occurred at index:  627\n",
      "An exception occurred at index:  631\n",
      "An exception occurred at index:  632\n",
      "An exception occurred at index:  636\n",
      "An exception occurred at index:  638\n",
      "An exception occurred at index:  639\n",
      "An exception occurred at index:  642\n",
      "An exception occurred at index:  643\n",
      "An exception occurred at index:  645\n",
      "An exception occurred at index:  650\n",
      "An exception occurred at index:  660\n",
      "An exception occurred at index:  664\n",
      "An exception occurred at index:  667\n",
      "An exception occurred at index:  668\n",
      "An exception occurred at index:  670\n",
      "An exception occurred at index:  677\n",
      "An exception occurred at index:  679\n",
      "An exception occurred at index:  680\n",
      "An exception occurred at index:  684\n",
      "An exception occurred at index:  685\n",
      "An exception occurred at index:  687\n",
      "An exception occurred at index:  690\n",
      "An exception occurred at index:  692\n",
      "An exception occurred at index:  703\n",
      "An exception occurred at index:  709\n",
      "An exception occurred at index:  710\n",
      "An exception occurred at index:  712\n",
      "An exception occurred at index:  718\n",
      "An exception occurred at index:  723\n",
      "An exception occurred at index:  727\n",
      "An exception occurred at index:  730\n",
      "An exception occurred at index:  737\n",
      "An exception occurred at index:  742\n",
      "An exception occurred at index:  749\n",
      "An exception occurred at index:  750\n",
      "An exception occurred at index:  751\n",
      "An exception occurred at index:  757\n",
      "An exception occurred at index:  761\n",
      "An exception occurred at index:  762\n",
      "An exception occurred at index:  763\n",
      "An exception occurred at index:  765\n",
      "An exception occurred at index:  774\n",
      "An exception occurred at index:  780\n",
      "An exception occurred at index:  790\n",
      "An exception occurred at index:  791\n",
      "An exception occurred at index:  796\n",
      "An exception occurred at index:  802\n"
     ]
    }
   ],
   "source": [
    "multiFace = parseDataset(dataset[\"train\"], False, \"hard\", \"small\")\n"
   ]
  },
  {
   "cell_type": "code",
   "execution_count": 15,
   "metadata": {},
   "outputs": [
    {
     "data": {
      "text/plain": [
       "7388"
      ]
     },
     "execution_count": 15,
     "metadata": {},
     "output_type": "execute_result"
    }
   ],
   "source": [
    "len(multiFace)"
   ]
  },
  {
   "cell_type": "code",
   "execution_count": 8,
   "metadata": {},
   "outputs": [
    {
     "ename": "NameError",
     "evalue": "name 'sdf' is not defined",
     "output_type": "error",
     "traceback": [
      "\u001b[1;31m---------------------------------------------------------------------------\u001b[0m",
      "\u001b[1;31mNameError\u001b[0m                                 Traceback (most recent call last)",
      "\u001b[1;32mc:\\Users\\Asus\\Documents\\UM\\Year2\\Project 2-2\\chatBot\\Experiments\\test2.ipynb Cell 9\u001b[0m in \u001b[0;36m1\n\u001b[1;32m----> <a href='vscode-notebook-cell:/c%3A/Users/Asus/Documents/UM/Year2/Project%202-2/chatBot/Experiments/test2.ipynb#X35sZmlsZQ%3D%3D?line=0'>1</a>\u001b[0m sdf\n",
      "\u001b[1;31mNameError\u001b[0m: name 'sdf' is not defined"
     ]
    }
   ],
   "source": [
    "sdf"
   ]
  },
  {
   "cell_type": "code",
   "execution_count": 6,
   "metadata": {},
   "outputs": [],
   "source": [
    "def findFaceCoordsThreshYCBCR(frame):\n",
    "     # convert frame to YCrCb color space\n",
    "    ycbcr = cv.cvtColor(frame, cv.COLOR_BGR2YCrCb)\n",
    "    \n",
    "    # define bounds for skin color in YCrCb color space\n",
    "    lower_skin = np.array([0, 135, 85])\n",
    "    upper_skin = np.array([255, 180, 135])\n",
    "\n",
    "    # threshold the image using the bounds above\n",
    "    thresh = cv.inRange(ycbcr, lower_skin, upper_skin)\n",
    "    \n",
    "    # remove noise using morphological operations\n",
    "    kernel = cv.getStructuringElement(cv.MORPH_ELLIPSE, (15,15))\n",
    "    mask = cv.morphologyEx(thresh, cv.MORPH_OPEN, kernel)\n",
    "    mask = cv.morphologyEx(mask, cv.MORPH_CLOSE, kernel)\n",
    "    \n",
    "    # find contours in the mask\n",
    "    contours, hierarchy = cv.findContours(mask, cv.RETR_EXTERNAL, cv.CHAIN_APPROX_SIMPLE)\n",
    "    \n",
    "    # set minimum and maximum width and height to help get rid of false positives\n",
    "    min_face_size = 100\n",
    "    max_face_size = 500\n",
    "    \n",
    "\n",
    "    coords = [];\n",
    "    # loop over all contours\n",
    "    for cnt in contours:\n",
    "        # get bounding rectangles for contours and compute their aspect ratio \n",
    "        x,y,w,h = cv.boundingRect(cnt)\n",
    "        aspect_ratio = float(w)/h\n",
    "        \n",
    "        # if aspect ratio is in a typical range from human faces and rectangle is in the right size range, draw rectangle\n",
    "        if min_face_size < w < max_face_size and min_face_size < h < max_face_size and 0.5 <= aspect_ratio <= 1.8:\n",
    "                # cv.rectangle(mask, (x,y), (x+w,y+h), (250,250,250), thickness=2)\n",
    "                coords.append((x,y,w,h))\n",
    "    return coords\n",
    "        \n"
   ]
  },
  {
   "cell_type": "code",
   "execution_count": 7,
   "metadata": {},
   "outputs": [],
   "source": [
    "def findFaceCoordsHaar(frame, draw=False):\n",
    "    face_cascade = cv.CascadeClassifier('haarcascade_frontalface_default.xml')\n",
    "\n",
    "    # convert frame to greyscale\n",
    "    gray = cv.cvtColor(frame, cv.COLOR_BGR2GRAY)\n",
    "        \n",
    "    # detect faces and return their coordinates\n",
    "    face_coordinates = face_cascade.detectMultiScale(gray, scaleFactor=1.2, minNeighbors=5, minSize=(10,10))\n",
    "   \n",
    "    if(draw == True):\n",
    "        for(x,y,w,h) in face_coordinates:\n",
    "            cv.rectangle(frame, (x,y), (x+w,y+h), (250,250,250), thickness=2)\n",
    "\n",
    "    return face_coordinates;\n",
    "    "
   ]
  },
  {
   "cell_type": "code",
   "execution_count": 8,
   "metadata": {},
   "outputs": [],
   "source": [
    "def findFaceCoordsHaarWithEyes(frame, draw=False):\n",
    "    face_cascade = cv.CascadeClassifier('haarcascade_frontalface_default.xml')\n",
    "    eye_cascade = cv.CascadeClassifier('haarcascade_eye.xml')\n",
    "\n",
    "    output = [];\n",
    "    # convert frame to greyscale\n",
    "    gray = cv.cvtColor(frame, cv.COLOR_BGR2GRAY)\n",
    "        \n",
    "    # detect faces and return their coordinates\n",
    "    face_coordinates = face_cascade.detectMultiScale(gray, scaleFactor=1.2, minNeighbors=5, minSize=(10,10))\n",
    "    #if no face coordinates are found, return None\n",
    "    \n",
    "    for(x,y,w,h) in face_coordinates:\n",
    "        \n",
    "        roi_gray = gray[y:y+h, x:x+w]\n",
    "        roi_color = frame[y:y+h, x:x+w]\n",
    "\n",
    "        # detect eyes and return their coordinates\n",
    "        eye_coordinates = eye_cascade.detectMultiScale(roi_gray, scaleFactor=1.2, minNeighbors=5, minSize=(10,10))\n",
    "\n",
    "        if(len(eye_coordinates) > 0):\n",
    "            output.append((x,y,w,h));\n",
    "            if(draw):\n",
    "                cv.rectangle(frame, (x,y), (x+w,y+h), (250,250,250), thickness=2)\n",
    "\n",
    "\n",
    "        if(draw):\n",
    "            # create a rectangle around each detected eye\n",
    "            for(ex,ey,ew,eh) in eye_coordinates:\n",
    "                cv.rectangle(roi_color, (ex,ey), (ex+ew,ey+eh), (0,250,0), thickness=2)\n",
    "\n",
    "\n",
    "    return output;\n",
    "    "
   ]
  },
  {
   "cell_type": "code",
   "execution_count": 9,
   "metadata": {},
   "outputs": [],
   "source": [
    "def calculate_iou(box1, box2):\n",
    "    # Extract coordinates of the bounding boxes\n",
    "    x1, y1, w1, h1 = box1\n",
    "    x2, y2, w2, h2 = box2\n",
    "    \n",
    "    # Calculate the coordinates of the intersection area\n",
    "    x_left = max(x1, x2)\n",
    "    y_top = max(y1, y2)\n",
    "    x_right = min(x1 + w1, x2 + w2)\n",
    "    y_bottom = min(y1 + h1, y2 + h2)\n",
    "    \n",
    "    # If there's no intersection, return 0\n",
    "    if x_right <= x_left or y_bottom <= y_top:\n",
    "        return 0.0\n",
    "    \n",
    "    # Calculate the area of intersection\n",
    "    intersection_area = (x_right - x_left) * (y_bottom - y_top)\n",
    "    \n",
    "    # Calculate the area of each bounding box\n",
    "    box1_area = w1 * h1\n",
    "    box2_area = w2 * h2\n",
    "    \n",
    "    # Calculate the Union area\n",
    "    union_area = box1_area + box2_area - intersection_area\n",
    "    \n",
    "    # Calculate the IoU\n",
    "    iou = intersection_area / union_area\n",
    "    \n",
    "    return iou"
   ]
  },
  {
   "cell_type": "code",
   "execution_count": 10,
   "metadata": {},
   "outputs": [],
   "source": [
    "def calculate_precision_recall(predictions, ground_truth, iou_threshold=0.5):\n",
    "    true_positives = 0\n",
    "    false_positives = 0\n",
    "    false_negatives = 0\n",
    "    \n",
    "    for pred_box in predictions:\n",
    "        pred_matched = False\n",
    "\n",
    "        for gt_box in ground_truth:\n",
    "            iou = calculate_iou(pred_box, gt_box)\n",
    "\n",
    "            if iou >= iou_threshold:\n",
    "                true_positives += 1\n",
    "                pred_matched = True\n",
    "                break\n",
    "\n",
    "        if not pred_matched:\n",
    "            false_positives += 1\n",
    "   \n",
    "\n",
    "    if( true_positives + false_positives == 0 or true_positives + false_negatives == 0):\n",
    "        return 0, 0, 0\n",
    "   \n",
    "    false_negatives = len(ground_truth) - true_positives\n",
    "    \n",
    "    precision = true_positives / (true_positives + false_positives)\n",
    "    recall = true_positives / (true_positives + false_negatives)\n",
    "    f1_score = 2 * (precision * recall) / (precision + recall)\n",
    "\n",
    "    return precision, recall, f1_score\n",
    "   \n",
    "    \n",
    "\n",
    "    "
   ]
  },
  {
   "cell_type": "code",
   "execution_count": 11,
   "metadata": {},
   "outputs": [],
   "source": [
    "def resizeImage(image):\n",
    "    # Get the original image dimensions\n",
    "    height, width = image.shape[:2]\n",
    "\n",
    "    # Calculate the new dimensions for the resized image\n",
    "    new_width = int(width / 2)\n",
    "    new_height = int(height / 2)\n",
    "\n",
    "    # Rescale the image while preserving aspect ratio\n",
    "    if width > height:\n",
    "        resized_width = new_width\n",
    "        resized_height = int(height * (new_width / width))\n",
    "    else:\n",
    "        resized_height = new_height\n",
    "        resized_width = int(width * (new_height / height))\n",
    "\n",
    "    # Resize the image\n",
    "    resized_image = cv.resize(image, (resized_width, resized_height))\n",
    "    return resized_image"
   ]
  },
  {
   "cell_type": "code",
   "execution_count": 17,
   "metadata": {},
   "outputs": [],
   "source": [
    "len(parsedDataset)\n",
    "dataset = parsedDataset"
   ]
  },
  {
   "cell_type": "code",
   "execution_count": 12,
   "metadata": {},
   "outputs": [],
   "source": [
    "def showPredictions(dataset) :\n",
    "    for index in range( len(dataset)):\n",
    "       \n",
    "        image = dataset[index]['image']\n",
    "        img = pimToCV(image)\n",
    "\n",
    "        if img is None:\n",
    "            sys.exit(\"Could not read the image.\")\n",
    "\n",
    "        coords = findFaceCoordsHaarWithEyes(img, draw=True)\n",
    "        \n",
    "        for coord in coords:\n",
    "            x,y,w,h = coord\n",
    "            iou = calculate_iou(coord, dataset[index]['faces']['bbox'][0]);\n",
    "            img = cv.putText(img, str(round(iou, 2)), (x,y), cv.FONT_HERSHEY_SIMPLEX, \n",
    "                    2, (0, 0, 255), 3, cv.LINE_AA)\n",
    "\n",
    "        real_coords = dataset[index]['faces']['bbox']\n",
    "        \n",
    "        print(dataset[index]['faces'])\n",
    "        for coord in real_coords:\n",
    "            x,y,w,h = np.asarray(coord, dtype = 'int')\n",
    "            print(x,y,w,h)\n",
    "            cv.rectangle(img, (x,y), (x+w,y+h), (0,0,250), thickness=2)   \n",
    "\n",
    "        \n",
    "        cv.imshow(\"Display window\", resizeImage(img))\n",
    "        key = cv.waitKey(0)\n",
    "\n",
    "        if key == ord('q'):\n",
    "            cv.destroyAllWindows()\n",
    "            break;"
   ]
  },
  {
   "cell_type": "code",
   "execution_count": 16,
   "metadata": {},
   "outputs": [
    {
     "name": "stdout",
     "output_type": "stream",
     "text": [
      "{'bbox': [[449.0, 330.0, 122.0, 149.0]], 'blur': [0], 'expression': [0], 'illumination': [0], 'occlusion': [0], 'pose': [0], 'invalid': [False]}\n",
      "449 330 122 149\n",
      "{'bbox': [[361.0, 98.0, 263.0, 339.0]], 'blur': [0], 'expression': [0], 'illumination': [0], 'occlusion': [0], 'pose': [0], 'invalid': [False]}\n",
      "361 98 263 339\n",
      "{'bbox': [[583.0, 379.0, 57.0, 62.0], [676.0, 299.0, 45.0, 60.0], [616.0, 275.0, 39.0, 41.0], [617.0, 224.0, 37.0, 37.0], [453.0, 294.0, 44.0, 53.0], [361.0, 281.0, 33.0, 43.0], [374.0, 380.0, 50.0, 55.0], [250.0, 414.0, 42.0, 53.0], [485.0, 419.0, 48.0, 65.0]], 'blur': [0, 0, 0, 0, 0, 0, 0, 0, 0], 'expression': [0, 0, 0, 0, 0, 0, 0, 0, 0], 'illumination': [0, 0, 0, 0, 0, 0, 0, 0, 0], 'occlusion': [0, 0, 0, 0, 0, 0, 0, 0, 0], 'pose': [0, 0, 0, 0, 0, 0, 0, 0, 0], 'invalid': [False, False, False, False, False, False, False, False, False]}\n",
      "583 379 57 62\n",
      "676 299 45 60\n",
      "616 275 39 41\n",
      "617 224 37 37\n",
      "453 294 44 53\n",
      "361 281 33 43\n",
      "374 380 50 55\n",
      "250 414 42 53\n",
      "485 419 48 65\n",
      "{'bbox': [[51.0, 209.0, 19.0, 25.0], [125.0, 234.0, 17.0, 21.0], [183.0, 241.0, 17.0, 21.0], [239.0, 229.0, 16.0, 21.0], [258.0, 282.0, 15.0, 26.0], [182.0, 280.0, 16.0, 24.0], [154.0, 324.0, 24.0, 23.0], [65.0, 311.0, 21.0, 25.0], [225.0, 382.0, 20.0, 24.0], [154.0, 495.0, 26.0, 41.0], [292.0, 506.0, 27.0, 34.0], [423.0, 480.0, 23.0, 31.0], [294.0, 224.0, 16.0, 20.0], [360.0, 230.0, 16.0, 18.0], [426.0, 233.0, 13.0, 22.0], [331.0, 277.0, 16.0, 23.0], [280.0, 315.0, 19.0, 20.0], [408.0, 289.0, 17.0, 22.0], [377.0, 331.0, 20.0, 25.0], [450.0, 324.0, 18.0, 27.0], [299.0, 370.0, 19.0, 25.0], [339.0, 396.0, 20.0, 29.0], [401.0, 372.0, 19.0, 26.0], [413.0, 397.0, 19.0, 24.0], [493.0, 219.0, 15.0, 19.0], [559.0, 209.0, 18.0, 22.0], [483.0, 298.0, 19.0, 23.0], [558.0, 291.0, 16.0, 22.0], [623.0, 290.0, 17.0, 22.0], [598.0, 334.0, 19.0, 25.0], [524.0, 331.0, 17.0, 24.0], [481.0, 367.0, 20.0, 26.0], [554.0, 373.0, 19.0, 26.0], [623.0, 376.0, 21.0, 29.0], [495.0, 419.0, 22.0, 28.0], [579.0, 494.0, 25.0, 32.0], [585.0, 394.0, 20.0, 29.0], [635.0, 214.0, 15.0, 22.0], [705.0, 251.0, 15.0, 19.0], [774.0, 264.0, 17.0, 20.0], [747.0, 298.0, 16.0, 24.0], [691.0, 297.0, 14.0, 20.0], [682.0, 331.0, 19.0, 24.0], [776.0, 382.0, 22.0, 28.0], [698.0, 391.0, 18.0, 24.0], [663.0, 404.0, 22.0, 28.0], [728.0, 502.0, 30.0, 37.0], [844.0, 255.0, 16.0, 18.0], [914.0, 260.0, 16.0, 19.0], [968.0, 243.0, 15.0, 22.0], [824.0, 294.0, 19.0, 22.0], [856.0, 327.0, 21.0, 27.0], [930.0, 339.0, 20.0, 26.0], [871.0, 518.0, 31.0, 39.0]], 'blur': [2, 2, 2, 2, 2, 2, 2, 2, 2, 2, 2, 2, 2, 2, 2, 2, 2, 2, 2, 2, 2, 2, 2, 2, 2, 2, 2, 2, 2, 2, 2, 2, 2, 2, 2, 2, 2, 2, 2, 2, 2, 2, 2, 2, 2, 2, 2, 2, 2, 2, 2, 2, 2, 2], 'expression': [0, 0, 0, 0, 0, 0, 0, 0, 0, 0, 0, 0, 0, 0, 0, 0, 0, 0, 0, 0, 0, 0, 0, 0, 0, 0, 0, 0, 0, 0, 0, 0, 0, 0, 0, 0, 0, 0, 0, 0, 0, 0, 0, 0, 0, 0, 0, 0, 0, 0, 0, 0, 0, 0], 'illumination': [0, 0, 0, 0, 0, 0, 0, 0, 0, 0, 0, 0, 0, 0, 0, 0, 0, 0, 0, 0, 0, 0, 0, 0, 0, 0, 0, 0, 0, 0, 0, 0, 0, 0, 0, 0, 0, 0, 0, 0, 0, 0, 0, 0, 0, 0, 0, 0, 0, 0, 0, 0, 0, 0], 'occlusion': [0, 0, 0, 0, 0, 0, 0, 0, 0, 0, 0, 0, 0, 0, 0, 0, 0, 0, 0, 0, 0, 0, 0, 0, 0, 0, 0, 0, 0, 0, 0, 0, 0, 0, 0, 0, 0, 0, 0, 0, 0, 0, 0, 0, 0, 0, 0, 0, 0, 0, 0, 0, 0, 0], 'pose': [0, 0, 0, 0, 0, 0, 0, 0, 0, 0, 0, 0, 0, 1, 0, 0, 0, 0, 0, 0, 0, 0, 0, 0, 0, 0, 0, 0, 0, 0, 0, 0, 0, 0, 0, 0, 0, 0, 0, 0, 0, 0, 0, 0, 0, 0, 0, 0, 0, 0, 0, 0, 0, 0], 'invalid': [False, False, False, False, False, False, False, False, False, False, False, False, False, False, False, False, False, False, False, False, False, False, False, False, False, False, False, False, False, False, False, False, False, False, False, False, False, False, False, False, False, False, False, False, False, False, False, False, False, False, False, False, False, False]}\n",
      "51 209 19 25\n",
      "125 234 17 21\n",
      "183 241 17 21\n",
      "239 229 16 21\n",
      "258 282 15 26\n",
      "182 280 16 24\n",
      "154 324 24 23\n",
      "65 311 21 25\n",
      "225 382 20 24\n",
      "154 495 26 41\n",
      "292 506 27 34\n",
      "423 480 23 31\n",
      "294 224 16 20\n",
      "360 230 16 18\n",
      "426 233 13 22\n",
      "331 277 16 23\n",
      "280 315 19 20\n",
      "408 289 17 22\n",
      "377 331 20 25\n",
      "450 324 18 27\n",
      "299 370 19 25\n",
      "339 396 20 29\n",
      "401 372 19 26\n",
      "413 397 19 24\n",
      "493 219 15 19\n",
      "559 209 18 22\n",
      "483 298 19 23\n",
      "558 291 16 22\n",
      "623 290 17 22\n",
      "598 334 19 25\n",
      "524 331 17 24\n",
      "481 367 20 26\n",
      "554 373 19 26\n",
      "623 376 21 29\n",
      "495 419 22 28\n",
      "579 494 25 32\n",
      "585 394 20 29\n",
      "635 214 15 22\n",
      "705 251 15 19\n",
      "774 264 17 20\n",
      "747 298 16 24\n",
      "691 297 14 20\n",
      "682 331 19 24\n",
      "776 382 22 28\n",
      "698 391 18 24\n",
      "663 404 22 28\n",
      "728 502 30 37\n",
      "844 255 16 18\n",
      "914 260 16 19\n",
      "968 243 15 22\n",
      "824 294 19 22\n",
      "856 327 21 27\n",
      "930 339 20 26\n",
      "871 518 31 39\n",
      "{'bbox': [[294.0, 300.0, 455.0, 582.0]], 'blur': [0], 'expression': [0], 'illumination': [0], 'occlusion': [0], 'pose': [0], 'invalid': [False]}\n",
      "294 300 455 582\n",
      "{'bbox': [[335.0, 62.0, 15.0, 19.0], [376.0, 93.0, 14.0, 18.0], [407.0, 137.0, 15.0, 20.0], [404.0, 53.0, 13.0, 17.0], [321.0, 59.0, 13.0, 16.0], [295.0, 96.0, 16.0, 19.0], [273.0, 54.0, 14.0, 18.0], [205.0, 51.0, 13.0, 17.0], [227.0, 68.0, 14.0, 18.0], [211.0, 110.0, 15.0, 19.0], [311.0, 146.0, 15.0, 20.0], [357.0, 202.0, 19.0, 23.0], [289.0, 202.0, 18.0, 23.0], [230.0, 200.0, 19.0, 22.0], [417.0, 70.0, 14.0, 14.0], [595.0, 142.0, 15.0, 20.0], [541.0, 89.0, 14.0, 17.0], [605.0, 54.0, 11.0, 17.0], [588.0, 67.0, 14.0, 17.0], [546.0, 51.0, 11.0, 13.0], [501.0, 65.0, 14.0, 19.0], [496.0, 128.0, 16.0, 19.0], [455.0, 89.0, 14.0, 18.0], [461.0, 50.0, 13.0, 18.0], [561.0, 193.0, 17.0, 23.0], [494.0, 178.0, 19.0, 26.0], [780.0, 89.0, 15.0, 19.0], [752.0, 40.0, 12.0, 17.0], [737.0, 65.0, 12.0, 17.0], [709.0, 47.0, 12.0, 17.0], [656.0, 47.0, 12.0, 18.0], [666.0, 66.0, 14.0, 20.0], [704.0, 92.0, 15.0, 20.0], [690.0, 133.0, 19.0, 24.0], [628.0, 85.0, 17.0, 21.0], [804.0, 247.0, 17.0, 23.0], [811.0, 206.0, 17.0, 24.0], [746.0, 205.0, 20.0, 23.0], [731.0, 249.0, 23.0, 29.0], [701.0, 280.0, 19.0, 26.0], [638.0, 261.0, 19.0, 28.0], [686.0, 200.0, 18.0, 23.0], [624.0, 192.0, 20.0, 24.0], [908.0, 285.0, 27.0, 33.0], [107.0, 268.0, 20.0, 25.0], [108.0, 322.0, 25.0, 32.0], [185.0, 252.0, 23.0, 29.0], [298.0, 278.0, 23.0, 29.0], [268.0, 247.0, 22.0, 27.0], [169.0, 212.0, 17.0, 23.0], [429.0, 196.0, 18.0, 26.0], [534.0, 257.0, 17.0, 25.0], [478.0, 282.0, 22.0, 28.0], [443.0, 242.0, 17.0, 24.0], [393.0, 301.0, 22.0, 30.0], [359.0, 259.0, 18.0, 24.0], [577.0, 288.0, 23.0, 29.0], [295.0, 146.0, 13.0, 17.0]], 'blur': [2, 2, 2, 2, 2, 2, 2, 2, 2, 2, 2, 2, 2, 2, 2, 2, 2, 2, 2, 2, 2, 2, 2, 2, 2, 2, 2, 2, 2, 2, 2, 2, 2, 2, 2, 2, 2, 2, 2, 2, 2, 2, 2, 2, 2, 2, 2, 2, 2, 2, 2, 2, 2, 2, 2, 2, 2, 2], 'expression': [0, 0, 0, 0, 0, 0, 0, 0, 0, 0, 0, 0, 0, 0, 0, 0, 0, 0, 0, 0, 0, 0, 0, 0, 0, 0, 0, 0, 0, 0, 0, 0, 0, 0, 0, 0, 0, 0, 0, 0, 0, 0, 0, 0, 0, 0, 0, 0, 0, 0, 0, 0, 0, 0, 0, 0, 0, 0], 'illumination': [0, 0, 0, 0, 0, 0, 0, 0, 0, 0, 0, 0, 0, 0, 0, 0, 0, 0, 0, 0, 0, 0, 0, 0, 0, 0, 0, 0, 0, 0, 0, 0, 0, 0, 0, 0, 0, 0, 0, 0, 0, 0, 0, 0, 0, 0, 0, 0, 0, 0, 0, 0, 0, 0, 0, 0, 0, 0], 'occlusion': [0, 0, 0, 0, 0, 0, 0, 0, 0, 0, 0, 0, 0, 0, 0, 0, 0, 0, 0, 0, 0, 0, 0, 0, 0, 0, 0, 0, 0, 0, 0, 0, 0, 0, 0, 0, 0, 0, 0, 0, 0, 0, 0, 0, 0, 0, 0, 0, 0, 0, 0, 0, 0, 0, 0, 0, 0, 0], 'pose': [0, 0, 0, 0, 0, 0, 0, 0, 0, 0, 0, 0, 0, 0, 0, 0, 0, 0, 0, 0, 0, 0, 0, 0, 0, 0, 0, 0, 0, 0, 0, 0, 0, 0, 0, 0, 0, 0, 0, 0, 0, 0, 0, 0, 0, 0, 0, 0, 0, 0, 0, 0, 0, 0, 0, 0, 0, 1], 'invalid': [False, False, False, False, False, False, False, False, False, False, False, False, False, False, False, False, False, False, False, False, False, False, False, False, False, False, False, False, False, False, False, False, False, False, False, False, False, False, False, False, False, False, False, False, False, False, False, False, False, False, False, False, False, False, False, False, False, False]}\n",
      "335 62 15 19\n",
      "376 93 14 18\n",
      "407 137 15 20\n",
      "404 53 13 17\n",
      "321 59 13 16\n",
      "295 96 16 19\n",
      "273 54 14 18\n",
      "205 51 13 17\n",
      "227 68 14 18\n",
      "211 110 15 19\n",
      "311 146 15 20\n",
      "357 202 19 23\n",
      "289 202 18 23\n",
      "230 200 19 22\n",
      "417 70 14 14\n",
      "595 142 15 20\n",
      "541 89 14 17\n",
      "605 54 11 17\n",
      "588 67 14 17\n",
      "546 51 11 13\n",
      "501 65 14 19\n",
      "496 128 16 19\n",
      "455 89 14 18\n",
      "461 50 13 18\n",
      "561 193 17 23\n",
      "494 178 19 26\n",
      "780 89 15 19\n",
      "752 40 12 17\n",
      "737 65 12 17\n",
      "709 47 12 17\n",
      "656 47 12 18\n",
      "666 66 14 20\n",
      "704 92 15 20\n",
      "690 133 19 24\n",
      "628 85 17 21\n",
      "804 247 17 23\n",
      "811 206 17 24\n",
      "746 205 20 23\n",
      "731 249 23 29\n",
      "701 280 19 26\n",
      "638 261 19 28\n",
      "686 200 18 23\n",
      "624 192 20 24\n",
      "908 285 27 33\n",
      "107 268 20 25\n",
      "108 322 25 32\n",
      "185 252 23 29\n",
      "298 278 23 29\n",
      "268 247 22 27\n",
      "169 212 17 23\n",
      "429 196 18 26\n",
      "534 257 17 25\n",
      "478 282 22 28\n",
      "443 242 17 24\n",
      "393 301 22 30\n",
      "359 259 18 24\n",
      "577 288 23 29\n",
      "295 146 13 17\n",
      "{'bbox': [[532.0, 168.0, 219.0, 287.0]], 'blur': [0], 'expression': [0], 'illumination': [0], 'occlusion': [0], 'pose': [0], 'invalid': [False]}\n",
      "532 168 219 287\n",
      "{'bbox': [[439.0, 182.0, 185.0, 254.0]], 'blur': [0], 'expression': [0], 'illumination': [0], 'occlusion': [0], 'pose': [0], 'invalid': [False]}\n",
      "439 182 185 254\n",
      "{'bbox': [[273.0, 327.0, 276.0, 372.0]], 'blur': [0], 'expression': [0], 'illumination': [0], 'occlusion': [0], 'pose': [0], 'invalid': [False]}\n",
      "273 327 276 372\n",
      "{'bbox': [[207.0, 459.0, 330.0, 441.0]], 'blur': [0], 'expression': [1], 'illumination': [0], 'occlusion': [0], 'pose': [0], 'invalid': [False]}\n",
      "207 459 330 441\n",
      "{'bbox': [[269.0, 206.0, 18.0, 26.0], [184.0, 281.0, 21.0, 29.0], [256.0, 274.0, 21.0, 30.0], [327.0, 213.0, 19.0, 25.0], [409.0, 212.0, 20.0, 26.0], [434.0, 300.0, 19.0, 24.0], [372.0, 315.0, 19.0, 24.0], [317.0, 309.0, 17.0, 27.0], [823.0, 280.0, 22.0, 28.0], [760.0, 285.0, 20.0, 28.0], [717.0, 296.0, 18.0, 27.0], [657.0, 306.0, 18.0, 25.0], [608.0, 287.0, 18.0, 26.0], [544.0, 305.0, 18.0, 25.0], [490.0, 294.0, 18.0, 26.0], [747.0, 189.0, 18.0, 27.0], [683.0, 203.0, 20.0, 24.0], [624.0, 210.0, 17.0, 28.0], [541.0, 219.0, 19.0, 25.0], [481.0, 223.0, 17.0, 22.0]], 'blur': [1, 1, 1, 1, 1, 1, 1, 1, 1, 1, 1, 1, 1, 1, 1, 1, 1, 1, 1, 1], 'expression': [0, 0, 0, 0, 0, 0, 0, 0, 0, 0, 0, 0, 0, 0, 0, 0, 0, 0, 0, 0], 'illumination': [0, 0, 0, 0, 0, 0, 0, 0, 0, 0, 0, 0, 0, 0, 0, 0, 0, 0, 0, 0], 'occlusion': [0, 0, 0, 0, 0, 0, 0, 0, 0, 0, 0, 0, 0, 0, 0, 0, 0, 0, 0, 0], 'pose': [0, 0, 0, 0, 0, 0, 0, 0, 0, 0, 0, 0, 0, 0, 0, 0, 0, 0, 0, 0], 'invalid': [False, False, False, False, False, False, False, False, False, False, False, False, False, False, False, False, False, False, False, False]}\n",
      "269 206 18 26\n",
      "184 281 21 29\n",
      "256 274 21 30\n",
      "327 213 19 25\n",
      "409 212 20 26\n",
      "434 300 19 24\n",
      "372 315 19 24\n",
      "317 309 17 27\n",
      "823 280 22 28\n",
      "760 285 20 28\n",
      "717 296 18 27\n",
      "657 306 18 25\n",
      "608 287 18 26\n",
      "544 305 18 25\n",
      "490 294 18 26\n",
      "747 189 18 27\n",
      "683 203 20 24\n",
      "624 210 17 28\n",
      "541 219 19 25\n",
      "481 223 17 22\n",
      "{'bbox': [[781.0, 769.0, 63.0, 99.0]], 'blur': [0], 'expression': [0], 'illumination': [1], 'occlusion': [0], 'pose': [0], 'invalid': [False]}\n",
      "781 769 63 99\n",
      "{'bbox': [[59.0, 55.0, 25.0, 27.0], [148.0, 54.0, 22.0, 29.0], [220.0, 76.0, 20.0, 26.0], [289.0, 62.0, 21.0, 23.0], [373.0, 70.0, 20.0, 26.0], [71.0, 144.0, 25.0, 27.0], [159.0, 137.0, 23.0, 26.0], [240.0, 111.0, 23.0, 29.0], [317.0, 119.0, 24.0, 30.0], [285.0, 223.0, 26.0, 31.0], [195.0, 230.0, 25.0, 30.0], [405.0, 219.0, 23.0, 29.0], [403.0, 123.0, 25.0, 29.0], [500.0, 126.0, 24.0, 24.0], [580.0, 127.0, 23.0, 30.0], [491.0, 221.0, 26.0, 30.0], [586.0, 228.0, 26.0, 26.0], [458.0, 59.0, 20.0, 25.0], [530.0, 55.0, 22.0, 26.0], [618.0, 77.0, 19.0, 25.0], [680.0, 69.0, 19.0, 24.0], [655.0, 145.0, 21.0, 28.0], [681.0, 221.0, 24.0, 32.0], [715.0, 135.0, 25.0, 31.0], [787.0, 157.0, 24.0, 27.0], [774.0, 220.0, 26.0, 32.0], [871.0, 227.0, 28.0, 32.0], [865.0, 136.0, 25.0, 29.0], [733.0, 55.0, 19.0, 23.0], [810.0, 65.0, 20.0, 24.0], [878.0, 83.0, 20.0, 25.0], [945.0, 90.0, 21.0, 25.0]], 'blur': [1, 1, 1, 1, 0, 0, 0, 0, 1, 1, 1, 1, 1, 1, 1, 1, 1, 1, 1, 1, 1, 0, 0, 0, 1, 1, 1, 0, 1, 1, 0, 1], 'expression': [0, 0, 0, 0, 0, 0, 0, 0, 0, 0, 0, 0, 0, 0, 0, 0, 0, 0, 0, 0, 0, 0, 0, 0, 0, 0, 0, 0, 0, 0, 0, 0], 'illumination': [0, 0, 0, 0, 0, 0, 0, 0, 1, 0, 0, 1, 1, 0, 0, 0, 0, 1, 0, 0, 0, 0, 0, 0, 0, 1, 0, 0, 1, 1, 0, 1], 'occlusion': [0, 0, 0, 0, 0, 0, 0, 0, 0, 0, 0, 0, 0, 0, 0, 0, 0, 0, 0, 0, 0, 0, 0, 0, 0, 0, 0, 0, 0, 0, 0, 0], 'pose': [0, 0, 0, 0, 0, 0, 0, 0, 0, 0, 0, 0, 0, 0, 0, 0, 0, 0, 0, 0, 0, 0, 0, 0, 0, 0, 0, 0, 0, 0, 0, 0], 'invalid': [False, False, False, False, False, False, False, False, False, False, False, False, False, False, False, False, False, False, False, False, False, False, False, False, False, False, False, False, False, False, False, False]}\n",
      "59 55 25 27\n",
      "148 54 22 29\n",
      "220 76 20 26\n",
      "289 62 21 23\n",
      "373 70 20 26\n",
      "71 144 25 27\n",
      "159 137 23 26\n",
      "240 111 23 29\n",
      "317 119 24 30\n",
      "285 223 26 31\n",
      "195 230 25 30\n",
      "405 219 23 29\n",
      "403 123 25 29\n",
      "500 126 24 24\n",
      "580 127 23 30\n",
      "491 221 26 30\n",
      "586 228 26 26\n",
      "458 59 20 25\n",
      "530 55 22 26\n",
      "618 77 19 25\n",
      "680 69 19 24\n",
      "655 145 21 28\n",
      "681 221 24 32\n",
      "715 135 25 31\n",
      "787 157 24 27\n",
      "774 220 26 32\n",
      "871 227 28 32\n",
      "865 136 25 29\n",
      "733 55 19 23\n",
      "810 65 20 24\n",
      "878 83 20 25\n",
      "945 90 21 25\n",
      "{'bbox': [[332.0, 128.0, 210.0, 296.0], [542.0, 232.0, 184.0, 266.0]], 'blur': [0, 0], 'expression': [0, 0], 'illumination': [0, 0], 'occlusion': [0, 0], 'pose': [0, 0], 'invalid': [False, False]}\n",
      "332 128 210 296\n",
      "542 232 184 266\n",
      "{'bbox': [[349.0, 179.0, 171.0, 221.0]], 'blur': [0], 'expression': [0], 'illumination': [0], 'occlusion': [0], 'pose': [0], 'invalid': [False]}\n",
      "349 179 171 221\n",
      "{'bbox': [[93.0, 183.0, 106.0, 133.0], [450.0, 161.0, 127.0, 174.0]], 'blur': [0, 0], 'expression': [0, 0], 'illumination': [0, 0], 'occlusion': [0, 0], 'pose': [0, 0], 'invalid': [False, False]}\n",
      "93 183 106 133\n",
      "450 161 127 174\n",
      "{'bbox': [[443.0, 129.0, 153.0, 263.0]], 'blur': [0], 'expression': [0], 'illumination': [0], 'occlusion': [0], 'pose': [0], 'invalid': [False]}\n",
      "443 129 153 263\n",
      "{'bbox': [[342.0, 324.0, 114.0, 130.0]], 'blur': [0], 'expression': [0], 'illumination': [0], 'occlusion': [0], 'pose': [0], 'invalid': [False]}\n",
      "342 324 114 130\n",
      "{'bbox': [[254.0, 416.0, 150.0, 144.0]], 'blur': [0], 'expression': [0], 'illumination': [1], 'occlusion': [0], 'pose': [0], 'invalid': [False]}\n",
      "254 416 150 144\n",
      "{'bbox': [[164.0, 84.0, 62.0, 80.0], [346.0, 72.0, 58.0, 94.0], [464.0, 94.0, 70.0, 78.0], [634.0, 110.0, 66.0, 64.0], [780.0, 106.0, 64.0, 84.0]], 'blur': [0, 0, 0, 0, 0], 'expression': [0, 0, 0, 0, 0], 'illumination': [0, 0, 0, 0, 0], 'occlusion': [0, 0, 0, 0, 0], 'pose': [0, 0, 0, 0, 0], 'invalid': [False, False, False, False, False]}\n",
      "164 84 62 80\n",
      "346 72 58 94\n",
      "464 94 70 78\n",
      "634 110 66 64\n",
      "780 106 64 84\n"
     ]
    }
   ],
   "source": [
    "showPredictions(multiFace)"
   ]
  },
  {
   "cell_type": "code",
   "execution_count": null,
   "metadata": {},
   "outputs": [],
   "source": []
  },
  {
   "cell_type": "code",
   "execution_count": 17,
   "metadata": {},
   "outputs": [],
   "source": [
    "def calc_average_metrics(dataset, findFaceFunc, iou_threshold=0.5, end = len(dataset)):\n",
    "    precision_sum = 0\n",
    "    recall_sum = 0\n",
    "    f1_score_sum = 0\n",
    "\n",
    "    # end = len(one_face_dataset);\n",
    "    # for index in range(len(one_face_dataset)):\n",
    "    for index in range(end):\n",
    "        # if(index % 500 == 0):\n",
    "        #     print(index)\n",
    "        image = dataset[index]['image']\n",
    "        img = pimToCV(image)\n",
    "        # img = cv.imread(\"photo.jpg\")\n",
    "        if img is None:\n",
    "            sys.exit(\"Could not read the image.\")\n",
    "\n",
    "        coords = findFaceFunc(img)\n",
    "        # coords = findFaceCoordsThreshYCBCR(img)\n",
    "      \n",
    "        real_coords = dataset[index]['faces']['bbox']\n",
    "        \n",
    "        # print(\"results = \", calculate_precision_recall(coords, real_coords))\n",
    "        precision, recall, f1_score = calculate_precision_recall(coords, real_coords, iou_threshold)\n",
    "        precision_sum += precision\n",
    "        recall_sum += recall\n",
    "        f1_score_sum += f1_score\n",
    "    \n",
    "    precision_avg = precision_sum / end\n",
    "    recall_avg = recall_sum / end\n",
    "    f1_score_avg = f1_score_sum / end\n",
    "\n",
    "    return precision_avg, recall_avg, f1_score_avg"
   ]
  },
  {
   "cell_type": "code",
   "execution_count": 20,
   "metadata": {},
   "outputs": [
    {
     "name": "stdout",
     "output_type": "stream",
     "text": [
      "0\n",
      "100\n",
      "200\n",
      "300\n",
      "400\n",
      "500\n",
      "600\n",
      "700\n",
      "800\n",
      "900\n",
      "(0.6665, 0.671, 0.6680000000000001)\n"
     ]
    }
   ],
   "source": [
    "print(calc_average_metrics(dataset, findFaceFunc=findFaceCoordsHaarWithEyes))"
   ]
  },
  {
   "cell_type": "code",
   "execution_count": 21,
   "metadata": {},
   "outputs": [
    {
     "name": "stdout",
     "output_type": "stream",
     "text": [
      "0\n",
      "100\n",
      "200\n",
      "300\n",
      "400\n",
      "500\n",
      "600\n",
      "700\n",
      "800\n",
      "900\n",
      "(0.6761761904761905, 0.736, 0.6950499999999996)\n"
     ]
    }
   ],
   "source": [
    "print(calc_average_metrics(dataset, findFaceFunc=findFaceCoordsHaar))"
   ]
  },
  {
   "cell_type": "code",
   "execution_count": 28,
   "metadata": {},
   "outputs": [
    {
     "name": "stdout",
     "output_type": "stream",
     "text": [
      "0\n",
      "500\n",
      "1000\n",
      "(0.6993093127662026, 0.765511684125705, 0.7202927746441029)\n"
     ]
    }
   ],
   "source": [
    "print(calc_average_metrics(dataset, findFaceFunc=findFaceCoordsHaar, iou_threshold=0.3))"
   ]
  },
  {
   "cell_type": "code",
   "execution_count": 24,
   "metadata": {},
   "outputs": [
    {
     "name": "stdout",
     "output_type": "stream",
     "text": [
      "0\n",
      "100\n",
      "200\n",
      "300\n",
      "400\n",
      "500\n",
      "600\n",
      "700\n",
      "800\n",
      "900\n",
      "1000\n",
      "1100\n",
      "1200\n",
      "(0.045280303902382885, 0.0749395648670427, 0.05265147154752309)\n"
     ]
    }
   ],
   "source": [
    "print(calc_average_metrics(dataset, findFaceFunc=findFaceCoordsThreshYCBCR))"
   ]
  },
  {
   "cell_type": "code",
   "execution_count": 31,
   "metadata": {},
   "outputs": [
    {
     "name": "stdout",
     "output_type": "stream",
     "text": [
      "An exception occurred at index:  581\n",
      "An exception occurred at index:  582\n",
      "An exception occurred at index:  586\n",
      "An exception occurred at index:  590\n",
      "An exception occurred at index:  600\n",
      "An exception occurred at index:  604\n",
      "An exception occurred at index:  605\n",
      "An exception occurred at index:  607\n",
      "An exception occurred at index:  610\n",
      "An exception occurred at index:  613\n",
      "An exception occurred at index:  614\n",
      "An exception occurred at index:  615\n",
      "An exception occurred at index:  624\n",
      "An exception occurred at index:  625\n",
      "An exception occurred at index:  627\n",
      "An exception occurred at index:  631\n",
      "An exception occurred at index:  632\n",
      "An exception occurred at index:  636\n",
      "An exception occurred at index:  638\n",
      "An exception occurred at index:  639\n",
      "An exception occurred at index:  642\n",
      "An exception occurred at index:  643\n",
      "An exception occurred at index:  645\n",
      "An exception occurred at index:  650\n",
      "An exception occurred at index:  660\n",
      "An exception occurred at index:  664\n",
      "An exception occurred at index:  667\n",
      "An exception occurred at index:  668\n",
      "An exception occurred at index:  670\n",
      "An exception occurred at index:  677\n",
      "An exception occurred at index:  679\n",
      "An exception occurred at index:  680\n",
      "An exception occurred at index:  684\n",
      "An exception occurred at index:  685\n",
      "An exception occurred at index:  687\n",
      "An exception occurred at index:  690\n",
      "An exception occurred at index:  692\n",
      "An exception occurred at index:  703\n",
      "An exception occurred at index:  709\n",
      "An exception occurred at index:  710\n",
      "An exception occurred at index:  712\n",
      "An exception occurred at index:  718\n",
      "An exception occurred at index:  723\n",
      "An exception occurred at index:  727\n",
      "An exception occurred at index:  730\n",
      "An exception occurred at index:  737\n",
      "An exception occurred at index:  742\n",
      "An exception occurred at index:  749\n",
      "An exception occurred at index:  750\n",
      "An exception occurred at index:  751\n",
      "An exception occurred at index:  757\n",
      "An exception occurred at index:  761\n",
      "An exception occurred at index:  762\n",
      "An exception occurred at index:  763\n",
      "An exception occurred at index:  765\n",
      "An exception occurred at index:  774\n",
      "An exception occurred at index:  780\n",
      "An exception occurred at index:  790\n",
      "An exception occurred at index:  791\n",
      "An exception occurred at index:  796\n",
      "An exception occurred at index:  802\n",
      "4110\n"
     ]
    }
   ],
   "source": [
    "hardDataset = parseDataset(dataset[\"train\"], True, \"hard\", \"small\")\n",
    "print(len(hardDataset))\n"
   ]
  },
  {
   "cell_type": "code",
   "execution_count": 21,
   "metadata": {},
   "outputs": [
    {
     "name": "stdout",
     "output_type": "stream",
     "text": [
      "Easy dataset : \n",
      "simple haar : (0.6761761904761905, 0.736, 0.6950499999999996)\n",
      "simple haar with eyes : (0.6665, 0.671, 0.6680000000000001)\n",
      "Threshold based : (0.04699285714285715, 0.078, 0.054707142857142836)\n"
     ]
    }
   ],
   "source": [
    "print(\"Easy dataset : \")\n",
    "print(\"simple haar : \" + str(calc_average_metrics(parsedDataset, findFaceFunc=findFaceCoordsHaar, end=1000)))\n",
    "print(\"simple haar with eyes : \" + str(calc_average_metrics(parsedDataset, findFaceFunc=findFaceCoordsHaarWithEyes, end=1000)))\n",
    "print(\"Threshold based : \" + str(calc_average_metrics(parsedDataset, findFaceFunc=findFaceCoordsThreshYCBCR, end=1000)))"
   ]
  },
  {
   "cell_type": "code",
   "execution_count": 35,
   "metadata": {},
   "outputs": [
    {
     "name": "stdout",
     "output_type": "stream",
     "text": [
      "simple haar : (0.5563465608465608, 0.624, 0.576907142857143)\n",
      "simple haar with eyes : (0.5273333333333332, 0.531, 0.5285)\n",
      "Threshold based : (0.05642777777777781, 0.093, 0.06567142857142855)\n"
     ]
    }
   ],
   "source": [
    "print(\"simple haar : \" + str(calc_average_metrics(hardDataset, findFaceFunc=findFaceCoordsHaar, end=1000)))\n",
    "print(\"simple haar with eyes : \" + str(calc_average_metrics(hardDataset, findFaceFunc=findFaceCoordsHaarWithEyes, end=1000)))\n",
    "print(\"Threshold based : \" + str(calc_average_metrics(hardDataset, findFaceFunc=findFaceCoordsThreshYCBCR, end=1000)))"
   ]
  },
  {
   "cell_type": "code",
   "execution_count": null,
   "metadata": {},
   "outputs": [],
   "source": []
  },
  {
   "cell_type": "code",
   "execution_count": 18,
   "metadata": {},
   "outputs": [
    {
     "name": "stdout",
     "output_type": "stream",
     "text": [
      "simple haar : (0.6327200747348204, 0.5624392169829087, 0.5666846894215589)\n",
      "simple haar with eyes : (0.4365833333333334, 0.33947420861302446, 0.3632223668341493)\n",
      "Threshold based : (0.060834199134199136, 0.06675674603174603, 0.05839540786011371)\n"
     ]
    }
   ],
   "source": [
    "print(\"simple haar : \" + str(calc_average_metrics(multiFace, findFaceFunc=findFaceCoordsHaar, end=1000)))\n",
    "print(\"simple haar with eyes : \" + str(calc_average_metrics(multiFace, findFaceFunc=findFaceCoordsHaarWithEyes, end=1000)))\n",
    "print(\"Threshold based : \" + str(calc_average_metrics(multiFace, findFaceFunc=findFaceCoordsThreshYCBCR, end=1000)))"
   ]
  },
  {
   "attachments": {},
   "cell_type": "markdown",
   "metadata": {},
   "source": []
  },
  {
   "cell_type": "code",
   "execution_count": 22,
   "metadata": {},
   "outputs": [
    {
     "ename": "NameError",
     "evalue": "name 'sdfa' is not defined",
     "output_type": "error",
     "traceback": [
      "\u001b[1;31m---------------------------------------------------------------------------\u001b[0m",
      "\u001b[1;31mNameError\u001b[0m                                 Traceback (most recent call last)",
      "\u001b[1;32mc:\\Users\\Asus\\Documents\\UM\\Year2\\Project 2-2\\chatBot\\Experiments\\test2.ipynb Cell 23\u001b[0m in \u001b[0;36m1\n\u001b[1;32m----> <a href='vscode-notebook-cell:/c%3A/Users/Asus/Documents/UM/Year2/Project%202-2/chatBot/Experiments/test2.ipynb#X26sZmlsZQ%3D%3D?line=0'>1</a>\u001b[0m sdfa\n",
      "\u001b[1;31mNameError\u001b[0m: name 'sdfa' is not defined"
     ]
    }
   ],
   "source": [
    "print(\"testing iou thresholds\")\n",
    "print(\"0.1: \" + str(calc_average_metrics(parsedDataset, findFaceFunc=findFaceCoordsHaar, iou_threshold=0.1, end=1000)))\n",
    "print(\"0.3 : \" + str(calc_average_metrics(parsedDataset, findFaceFunc=findFaceCoordsHaar, iou_threshold=0.3, end=1000)))\n",
    "print(\"0.5 : \" + str(calc_average_metrics(parsedDataset, findFaceFunc=findFaceCoordsHaar, iou_threshold=0.5, end=1000)))\n",
    "print(\"0.7 : \" + str(calc_average_metrics(parsedDataset, findFaceFunc=findFaceCoordsHaar, iou_threshold=0.7, end=1000)))\n",
    "print(\"0.9 : \" + str(calc_average_metrics(parsedDataset, findFaceFunc=findFaceCoordsHaar, iou_threshold=0.9, end=1000)))"
   ]
  },
  {
   "cell_type": "code",
   "execution_count": null,
   "metadata": {},
   "outputs": [
    {
     "data": {
      "text/plain": [
       "[449.0, 330.0, 122.0, 149.0]"
      ]
     },
     "execution_count": 14,
     "metadata": {},
     "output_type": "execute_result"
    }
   ],
   "source": [
    "dataset['train'][0]['faces']['bbox'][0]"
   ]
  },
  {
   "cell_type": "code",
   "execution_count": null,
   "metadata": {},
   "outputs": [],
   "source": [
    "import cv2\n",
    "import numpy as np\n",
    "\n",
    "# capture video from web camera\n",
    "cap = cv2.VideoCapture(0)\n",
    "\n",
    "# use loop to capture frame by frame\n",
    "while(True):\n",
    "\n",
    "    ret_val, frame = cap.read()\n",
    "    \n",
    "    coords = findFaceCoordsHaar(frame);\n",
    "\n",
    "    # draw rectangle around face\n",
    "    for (x,y,w,h) in coords:\n",
    "        cv2.rectangle(frame, (x,y), (x+w,y+h), (250,250,250), thickness=2)\n",
    "        \n",
    "    # display the frame with detected faces\n",
    "    cv2.imshow('Face recognition', frame)\n",
    "    \n",
    "    # wait for q key to be pressed to end the face detection screen\n",
    "    if cv2.waitKey(1) & 0xFF == ord('q'):\n",
    "        break\n",
    "\n",
    "    \n",
    "# release capture\n",
    "cap.release()\n",
    "cv2.destroyAllWindows()"
   ]
  },
  {
   "cell_type": "code",
   "execution_count": null,
   "metadata": {},
   "outputs": [],
   "source": [
    "import cv2 as cv\n",
    "import sys\n",
    "\n",
    "img = cv.imread(\"photo.jpg\")\n",
    "# img = cv.imread(cv.samples.findFile(\"photo2.png\"))\n",
    "if img is None:\n",
    "    sys.exit(\"Could not read the image.\")\n",
    "cv.imshow(\"Display window\", img)\n",
    "k = cv.waitKey(0)\n",
    "if k == ord(\"s\"):\n",
    "    cv.imwrite(\"starry_night.png\", img)"
   ]
  },
  {
   "cell_type": "code",
   "execution_count": null,
   "metadata": {},
   "outputs": [
    {
     "data": {
      "text/plain": [
       "(757, 1024, 3)"
      ]
     },
     "execution_count": 18,
     "metadata": {},
     "output_type": "execute_result"
    }
   ],
   "source": [
    "img.shape"
   ]
  },
  {
   "cell_type": "code",
   "execution_count": null,
   "metadata": {},
   "outputs": [],
   "source": [
    "import cv2 as cv\n",
    "nimg = np.array(image)\n",
    "ocvim = cv.cvtColor(nimg, cv.COLOR_RGB2BGR)\n",
    "cv.imshow(\"Display window\", ocvim)"
   ]
  }
 ],
 "metadata": {
  "kernelspec": {
   "display_name": "Python 3",
   "language": "python",
   "name": "python3"
  },
  "language_info": {
   "codemirror_mode": {
    "name": "ipython",
    "version": 3
   },
   "file_extension": ".py",
   "mimetype": "text/x-python",
   "name": "python",
   "nbconvert_exporter": "python",
   "pygments_lexer": "ipython3",
   "version": "3.10.9"
  },
  "orig_nbformat": 4
 },
 "nbformat": 4,
 "nbformat_minor": 2
}
