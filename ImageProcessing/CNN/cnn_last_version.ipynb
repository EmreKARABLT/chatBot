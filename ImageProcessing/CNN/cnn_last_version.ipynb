{
 "cells": [
  {
   "cell_type": "code",
   "execution_count": 1,
   "metadata": {
    "collapsed": true,
    "ExecuteTime": {
     "end_time": "2023-06-21T14:34:23.011820Z",
     "start_time": "2023-06-21T14:34:08.398862800Z"
    }
   },
   "outputs": [
    {
     "name": "stdout",
     "output_type": "stream",
     "text": [
      "[PhysicalDevice(name='/physical_device:GPU:0', device_type='GPU')]\n"
     ]
    }
   ],
   "source": [
    "import cv2\n",
    "from keras import Sequential,Model\n",
    "from keras.layers import Conv2D, MaxPooling2D, Flatten, Dense , Input , MaxPool2D\n",
    "from sklearn.model_selection import train_test_split\n",
    "from sklearn.preprocessing import LabelBinarizer\n",
    "import matplotlib.pyplot as plt\n",
    "from keras.layers import Rescaling,Dropout\n",
    "import numpy as np\n",
    "import tensorflow as tf\n",
    "from tensorflow import keras\n",
    "print(tf.config.list_physical_devices('GPU'))\n"
   ]
  },
  {
   "cell_type": "code",
   "execution_count": 2,
   "outputs": [],
   "source": [
    "import os\n",
    "from PIL import Image\n",
    "\n",
    "\n",
    "class database():\n",
    "    def __init__(self , path_face_classifier , path_IMAGE_DIR):\n",
    "        self.face_classifier = cv2.CascadeClassifier(path_face_classifier)\n",
    "        self.IMAGE_DIR = path_IMAGE_DIR\n",
    "\n",
    "    def my_data(self , height , width ):\n",
    "\n",
    "        x_train = []\n",
    "        y_labels = []\n",
    "        for root, directories, files in os.walk(self.IMAGE_DIR):\n",
    "\n",
    "            for file in files:\n",
    "                if file.endswith(\"png\") or file.endswith(\"jpg\") :\n",
    "                    path = os.path.join(root, file)\n",
    "\n",
    "                    label = os.path.basename(os.path.dirname(path))\n",
    "\n",
    "                    image = cv2.imread(path)\n",
    "                    rgb = cv2.cvtColor(image, cv2.COLOR_BGR2RGB)\n",
    "                    gray = cv2.cvtColor(image,cv2.COLOR_BGR2GRAY)\n",
    "\n",
    "\n",
    "                    faces = self.face_classifier.detectMultiScale(gray, scaleFactor=1.1, minNeighbors=5)\n",
    "\n",
    "\n",
    "\n",
    "                    for x, y, w, h in faces:\n",
    "                        rect_rgb = rgb[y:y + h, x:x + w]\n",
    "                        rect_rgb = cv2.resize(rect_rgb, (height, width), interpolation=cv2.INTER_CUBIC)\n",
    "\n",
    "                        x_train.append(rect_rgb)\n",
    "                        y_labels.append(label)\n",
    "\n",
    "        print(\"LFW data set created\")\n",
    "\n",
    "        return x_train , y_labels\n",
    "\n"
   ],
   "metadata": {
    "collapsed": false,
    "ExecuteTime": {
     "end_time": "2023-06-21T14:34:24.702684500Z",
     "start_time": "2023-06-21T14:34:24.687063400Z"
    }
   }
  },
  {
   "cell_type": "code",
   "execution_count": 9,
   "outputs": [],
   "source": [
    "# from ImageProcessing.colorFeret.colorFeret import colorFeret\n",
    "# img_size = (384, 256)\n",
    "\n",
    "# _ , x_images , y_labels , n = colorFeret().load_dataset(max_angle = 70 , root = \"C:\\\\Users\\\\bpk_e.EMRE\\\\Desktop\\\\PROJECTS\\\\chatBot\\\\ImageProcessing\\\\colorFeret\")\n",
    "#\n"
   ],
   "metadata": {
    "collapsed": false,
    "ExecuteTime": {
     "end_time": "2023-06-14T15:08:53.761680800Z",
     "start_time": "2023-06-14T15:08:53.738740800Z"
    }
   }
  },
  {
   "cell_type": "code",
   "execution_count": 3,
   "outputs": [
    {
     "name": "stdout",
     "output_type": "stream",
     "text": [
      "LFW data set created\n"
     ]
    },
    {
     "data": {
      "text/plain": "680"
     },
     "execution_count": 3,
     "metadata": {},
     "output_type": "execute_result"
    }
   ],
   "source": [
    "img_size = (100 ,100, 3)\n",
    "\n",
    "face_classifier = \"C:\\\\Users\\\\bpk_e.EMRE\\\\Desktop\\\\PROJECTS\\\\chatBot\\\\ImageProcessing\\\\haarcascade_frontalface_default.xml\"\n",
    "IMAGE_DIR = \"C:\\\\Users\\\\bpk_e.EMRE\\\\Desktop\\\\PROJECTS\\\\chatBotLastPhase\\\\ImageProcessing\\\\Data\\\\Images\"\n",
    "\n",
    "x_images, y_labels = database(path_face_classifier=face_classifier , path_IMAGE_DIR = IMAGE_DIR).my_data( height=img_size[0],width=img_size[1])\n",
    "\n",
    "len(x_images)\n"
   ],
   "metadata": {
    "collapsed": false,
    "ExecuteTime": {
     "end_time": "2023-06-21T14:34:44.896420100Z",
     "start_time": "2023-06-21T14:34:32.335063700Z"
    }
   }
  },
  {
   "cell_type": "code",
   "execution_count": 4,
   "outputs": [],
   "source": [
    "def data_aug(x_images, y_labels , copy_number_per_image):\n",
    "    data = []\n",
    "    labels = []\n",
    "    for i in range(len(x_images)):\n",
    "        img = x_images[i]\n",
    "        label = y_labels[i]\n",
    "\n",
    "        for j in range(copy_number_per_image):\n",
    "\n",
    "            img_ = tf.image.stateless_random_brightness(img, max_delta=0.02, seed=(1, 2))\n",
    "            img_ = tf.image.stateless_random_contrast(img_, lower=0.6, upper=1, seed=(1,3))\n",
    "            img_ = tf.image.stateless_random_flip_left_right(img_, seed=(np.random.randint(100),np.random.randint(100)))\n",
    "            img_ = tf.image.stateless_random_jpeg_quality(img_, min_jpeg_quality=90, max_jpeg_quality=100, seed=(np.random.randint(100),np.random.randint(100)))\n",
    "            img_ = tf.image.stateless_random_saturation(img_, lower=0.9,upper=1, seed=(np.random.randint(100),np.random.randint(100)))\n",
    "\n",
    "            data.append(img_)\n",
    "            labels.append(label)\n",
    "    print(len(data), len(labels))\n",
    "    return data , labels\n"
   ],
   "metadata": {
    "collapsed": false,
    "ExecuteTime": {
     "end_time": "2023-06-21T14:34:47.516655Z",
     "start_time": "2023-06-21T14:34:47.485411800Z"
    }
   }
  },
  {
   "cell_type": "code",
   "execution_count": 5,
   "outputs": [
    {
     "name": "stdout",
     "output_type": "stream",
     "text": [
      "2040 2040\n"
     ]
    },
    {
     "name": "stderr",
     "output_type": "stream",
     "text": [
      "C:\\Users\\bpk_e.EMRE\\AppData\\Local\\Temp\\ipykernel_21288\\372962302.py:24: FutureWarning: elementwise comparison failed; returning scalar instead, but in the future will perform elementwise comparison\n",
      "  if len(np.where(labels == y)[0]) >= min_number_of_images_exists_per_person * copy_number and len(np.where(np.array(Y_filtered) == y)[0]) <= max_number_of_images_per_person_in_dataset * copy_number:\n"
     ]
    },
    {
     "name": "stdout",
     "output_type": "stream",
     "text": [
      "2040\n",
      "2040\n",
      "['Akhilesh' 'Anna' 'Emmanuel' 'Emre_Karabulut' 'Gabrijel' 'Joshua' 'Lea']\n",
      "7\n"
     ]
    },
    {
     "data": {
      "text/plain": "<matplotlib.image.AxesImage at 0x263e26b4970>"
     },
     "execution_count": 5,
     "metadata": {},
     "output_type": "execute_result"
    },
    {
     "data": {
      "text/plain": "<Figure size 640x480 with 1 Axes>",
      "image/png": "[encoded data removed]"
     },
     "metadata": {},
     "output_type": "display_data"
    }
   ],
   "source": [
    "import random\n",
    "from scipy import ndimage\n",
    "\n",
    "\n",
    "# def hist_eq(img):\n",
    "#\n",
    "#     clahe = cv2.createCLAHE(clipLimit=2.0, tileGridSize=(8, 8))\n",
    "#     equalized = clahe.apply(img)\n",
    "#     noisy = random_noise(equalized, mode='gaussian', clip=True,mean=0 ,var=1)\n",
    "#     return noisy\n",
    "# for im,label in zip(x_images, y_labels):\n",
    "#     print(type(im), label)\n",
    "copy_number = 3\n",
    "X,Y = data_aug(x_images,y_labels , 3 )\n",
    "\n",
    "X_filtered = []\n",
    "Y_filtered = []\n",
    "\n",
    "min_number_of_images_exists_per_person = 10\n",
    "max_number_of_images_per_person_in_dataset = 1000\n",
    "\n",
    "labels = np.array(Y)\n",
    "for x , y  in zip(X,Y):\n",
    "    if len(np.where(labels == y)[0]) >= min_number_of_images_exists_per_person * copy_number and len(np.where(np.array(Y_filtered) == y)[0]) <= max_number_of_images_per_person_in_dataset * copy_number:\n",
    "        random_rotate_angle = random.randint(-5,5)\n",
    "        random_flip_prob_threshold = 0.5\n",
    "        if random.random() < random_flip_prob_threshold:\n",
    "            x = np.flip(x , 1)\n",
    "        x = ndimage.rotate(x, random_rotate_angle , reshape=False)\n",
    "        X_filtered.append(x)\n",
    "        Y_filtered.append(y)\n",
    "print(len(X_filtered))\n",
    "print(len(Y_filtered))\n",
    "print(np.unique(Y_filtered))\n",
    "n = len(np.unique(Y_filtered))\n",
    "print(n)\n",
    "\n",
    "plt.imshow(X_filtered[10] , cmap='gray')\n",
    "\n"
   ],
   "metadata": {
    "collapsed": false,
    "ExecuteTime": {
     "end_time": "2023-06-21T14:35:17.140011100Z",
     "start_time": "2023-06-21T14:34:50.147349900Z"
    }
   }
  },
  {
   "cell_type": "code",
   "execution_count": 6,
   "outputs": [],
   "source": [
    "encoder = LabelBinarizer()\n",
    "\n",
    "Y_encoded = encoder.fit_transform(Y_filtered)\n",
    "# for i , j in zip(Y_filtered,Y_encoded):\n",
    "#     print(i , \" - \" , j)\n",
    "\n",
    "\n",
    "X_train, X_test, Y_train, Y_test = train_test_split(X_filtered,Y_encoded,test_size = 0.2 , shuffle=True , stratify=Y_encoded)\n",
    "X_train, X_val, Y_train, Y_val = train_test_split(X_train,Y_train,test_size = 0.30 , shuffle=True, stratify=Y_train)\n"
   ],
   "metadata": {
    "collapsed": false,
    "ExecuteTime": {
     "end_time": "2023-06-21T14:35:24.263528300Z",
     "start_time": "2023-06-21T14:35:24.179029300Z"
    }
   }
  },
  {
   "cell_type": "code",
   "execution_count": 8,
   "outputs": [
    {
     "name": "stdout",
     "output_type": "stream",
     "text": [
      "100\n",
      "['Akhilesh' 'Anna' 'Emmanuel' 'Emre_Karabulut' 'Gabrijel' 'Joshua' 'Lea']\n"
     ]
    },
    {
     "data": {
      "text/plain": "<Figure size 640x480 with 1 Axes>",
      "image/png": "[encoded data removed]"
     },
     "metadata": {},
     "output_type": "display_data"
    }
   ],
   "source": [
    "i = 100\n",
    "print(i)\n",
    "plt.title((Y_train[i]))\n",
    "plt.imshow(X_train[i] , cmap=\"gray\")\n",
    "print(np.unique(Y_filtered))\n",
    "#\n",
    "# print(\"Data Created !!\")\n",
    "# print(type(X_train))\n",
    "# print(\"Length of training set \" , len(X_train) , len(Y_train))\n",
    "# print(\"Length of validation set \",len(X_val), len(Y_val))\n",
    "# print(\"Length of testing set \",len(X_test), len(Y_test))\n"
   ],
   "metadata": {
    "collapsed": false,
    "ExecuteTime": {
     "end_time": "2023-06-21T14:35:36.457282400Z",
     "start_time": "2023-06-21T14:35:36.281941900Z"
    }
   }
  },
  {
   "cell_type": "code",
   "execution_count": 9,
   "outputs": [
    {
     "name": "stdout",
     "output_type": "stream",
     "text": [
      "Epoch 1/100\n",
      "5/5 [==============================] - 16s 632ms/step - loss: 3.7823 - categorical_accuracy: 0.1515 - val_loss: 1.8870 - val_categorical_accuracy: 0.1469\n",
      "Epoch 2/100\n",
      "5/5 [==============================] - 1s 119ms/step - loss: 2.1025 - categorical_accuracy: 0.2636 - val_loss: 1.1868 - val_categorical_accuracy: 0.6878\n",
      "Epoch 3/100\n",
      "5/5 [==============================] - 0s 98ms/step - loss: 1.2125 - categorical_accuracy: 0.5455 - val_loss: 0.7111 - val_categorical_accuracy: 0.8388\n",
      "Epoch 4/100\n",
      "5/5 [==============================] - 0s 93ms/step - loss: 0.7345 - categorical_accuracy: 0.7469 - val_loss: 0.3012 - val_categorical_accuracy: 0.9796\n",
      "Epoch 5/100\n",
      "5/5 [==============================] - 0s 97ms/step - loss: 0.3657 - categorical_accuracy: 0.8940 - val_loss: 0.1243 - val_categorical_accuracy: 0.9837\n",
      "Epoch 6/100\n",
      "5/5 [==============================] - 0s 92ms/step - loss: 0.1752 - categorical_accuracy: 0.9676 - val_loss: 0.0571 - val_categorical_accuracy: 0.9898\n",
      "Epoch 7/100\n",
      "5/5 [==============================] - 0s 88ms/step - loss: 0.0991 - categorical_accuracy: 0.9807 - val_loss: 0.0391 - val_categorical_accuracy: 0.9898\n",
      "Epoch 8/100\n",
      "5/5 [==============================] - 0s 95ms/step - loss: 0.0640 - categorical_accuracy: 0.9895 - val_loss: 0.0300 - val_categorical_accuracy: 0.9939\n",
      "Epoch 9/100\n",
      "5/5 [==============================] - 0s 94ms/step - loss: 0.0480 - categorical_accuracy: 0.9904 - val_loss: 0.0252 - val_categorical_accuracy: 0.9959\n",
      "Epoch 10/100\n",
      "5/5 [==============================] - 0s 98ms/step - loss: 0.0379 - categorical_accuracy: 0.9939 - val_loss: 0.0248 - val_categorical_accuracy: 0.9918\n",
      "Epoch 11/100\n",
      "5/5 [==============================] - 0s 92ms/step - loss: 0.0397 - categorical_accuracy: 0.9939 - val_loss: 0.0175 - val_categorical_accuracy: 0.9980\n",
      "Epoch 12/100\n",
      "5/5 [==============================] - 0s 94ms/step - loss: 0.0303 - categorical_accuracy: 0.9912 - val_loss: 0.0150 - val_categorical_accuracy: 0.9980\n",
      "Epoch 13/100\n",
      "5/5 [==============================] - 0s 94ms/step - loss: 0.0271 - categorical_accuracy: 0.9965 - val_loss: 0.0104 - val_categorical_accuracy: 0.9980\n",
      "Epoch 14/100\n",
      "5/5 [==============================] - 0s 94ms/step - loss: 0.0162 - categorical_accuracy: 0.9974 - val_loss: 0.0095 - val_categorical_accuracy: 0.9980\n",
      "Epoch 15/100\n",
      "5/5 [==============================] - 0s 95ms/step - loss: 0.0129 - categorical_accuracy: 0.9965 - val_loss: 0.0073 - val_categorical_accuracy: 0.9980\n",
      "Epoch 16/100\n",
      "5/5 [==============================] - 0s 99ms/step - loss: 0.0117 - categorical_accuracy: 0.9991 - val_loss: 0.0063 - val_categorical_accuracy: 0.9980\n",
      "Epoch 17/100\n",
      "5/5 [==============================] - 0s 92ms/step - loss: 0.0086 - categorical_accuracy: 0.9991 - val_loss: 0.0044 - val_categorical_accuracy: 0.9980\n",
      "Epoch 18/100\n",
      "5/5 [==============================] - 0s 92ms/step - loss: 0.0086 - categorical_accuracy: 0.9982 - val_loss: 0.0039 - val_categorical_accuracy: 0.9980\n",
      "Epoch 19/100\n",
      "5/5 [==============================] - 0s 92ms/step - loss: 0.0108 - categorical_accuracy: 0.9974 - val_loss: 0.0037 - val_categorical_accuracy: 0.9980\n",
      "Epoch 20/100\n",
      "5/5 [==============================] - 1s 104ms/step - loss: 0.0070 - categorical_accuracy: 1.0000 - val_loss: 0.0026 - val_categorical_accuracy: 0.9980\n",
      "Epoch 21/100\n",
      "5/5 [==============================] - 0s 93ms/step - loss: 0.0091 - categorical_accuracy: 0.9974 - val_loss: 0.0039 - val_categorical_accuracy: 0.9980\n",
      "Epoch 22/100\n",
      "5/5 [==============================] - 0s 92ms/step - loss: 0.0065 - categorical_accuracy: 0.9982 - val_loss: 0.0022 - val_categorical_accuracy: 1.0000\n",
      "Epoch 23/100\n",
      "5/5 [==============================] - 0s 90ms/step - loss: 0.0082 - categorical_accuracy: 0.9974 - val_loss: 0.0016 - val_categorical_accuracy: 1.0000\n",
      "Epoch 24/100\n",
      "5/5 [==============================] - 0s 90ms/step - loss: 0.0038 - categorical_accuracy: 1.0000 - val_loss: 0.0018 - val_categorical_accuracy: 1.0000\n",
      "Epoch 25/100\n",
      "5/5 [==============================] - 0s 94ms/step - loss: 0.0042 - categorical_accuracy: 1.0000 - val_loss: 0.0012 - val_categorical_accuracy: 1.0000\n",
      "Epoch 26/100\n",
      "5/5 [==============================] - 0s 96ms/step - loss: 0.0047 - categorical_accuracy: 0.9991 - val_loss: 0.0010 - val_categorical_accuracy: 1.0000\n",
      "Epoch 27/100\n",
      "5/5 [==============================] - 0s 91ms/step - loss: 0.0038 - categorical_accuracy: 0.9991 - val_loss: 0.0011 - val_categorical_accuracy: 1.0000\n",
      "Epoch 28/100\n",
      "5/5 [==============================] - 0s 88ms/step - loss: 0.0026 - categorical_accuracy: 1.0000 - val_loss: 0.0013 - val_categorical_accuracy: 1.0000\n",
      "Epoch 29/100\n",
      "5/5 [==============================] - 0s 92ms/step - loss: 0.0033 - categorical_accuracy: 0.9991 - val_loss: 6.4808e-04 - val_categorical_accuracy: 1.0000\n",
      "Epoch 30/100\n",
      "5/5 [==============================] - 0s 91ms/step - loss: 0.0022 - categorical_accuracy: 1.0000 - val_loss: 6.9443e-04 - val_categorical_accuracy: 1.0000\n",
      "Epoch 31/100\n",
      "5/5 [==============================] - 0s 88ms/step - loss: 0.0031 - categorical_accuracy: 1.0000 - val_loss: 0.0012 - val_categorical_accuracy: 1.0000\n",
      "Epoch 32/100\n",
      "5/5 [==============================] - 0s 90ms/step - loss: 0.0035 - categorical_accuracy: 1.0000 - val_loss: 5.3369e-04 - val_categorical_accuracy: 1.0000\n",
      "Epoch 33/100\n",
      "5/5 [==============================] - 0s 90ms/step - loss: 0.0028 - categorical_accuracy: 1.0000 - val_loss: 5.4997e-04 - val_categorical_accuracy: 1.0000\n",
      "Epoch 34/100\n",
      "5/5 [==============================] - 0s 92ms/step - loss: 0.0023 - categorical_accuracy: 1.0000 - val_loss: 3.8203e-04 - val_categorical_accuracy: 1.0000\n",
      "Epoch 35/100\n",
      "5/5 [==============================] - 0s 88ms/step - loss: 0.0031 - categorical_accuracy: 0.9991 - val_loss: 4.8489e-04 - val_categorical_accuracy: 1.0000\n",
      "Epoch 36/100\n",
      "5/5 [==============================] - 0s 92ms/step - loss: 0.0021 - categorical_accuracy: 1.0000 - val_loss: 3.7918e-04 - val_categorical_accuracy: 1.0000\n",
      "Epoch 37/100\n",
      "5/5 [==============================] - 0s 95ms/step - loss: 0.0027 - categorical_accuracy: 1.0000 - val_loss: 3.2153e-04 - val_categorical_accuracy: 1.0000\n",
      "Epoch 38/100\n",
      "5/5 [==============================] - 0s 96ms/step - loss: 0.0019 - categorical_accuracy: 1.0000 - val_loss: 2.9047e-04 - val_categorical_accuracy: 1.0000\n",
      "Epoch 39/100\n",
      "5/5 [==============================] - 0s 91ms/step - loss: 0.0020 - categorical_accuracy: 1.0000 - val_loss: 2.9776e-04 - val_categorical_accuracy: 1.0000\n",
      "Epoch 40/100\n",
      "5/5 [==============================] - 0s 92ms/step - loss: 0.0013 - categorical_accuracy: 1.0000 - val_loss: 3.1358e-04 - val_categorical_accuracy: 1.0000\n",
      "Epoch 41/100\n",
      "5/5 [==============================] - 0s 94ms/step - loss: 0.0017 - categorical_accuracy: 1.0000 - val_loss: 2.3365e-04 - val_categorical_accuracy: 1.0000\n",
      "Epoch 42/100\n",
      "5/5 [==============================] - 0s 90ms/step - loss: 0.0013 - categorical_accuracy: 1.0000 - val_loss: 3.6872e-04 - val_categorical_accuracy: 1.0000\n",
      "Epoch 43/100\n",
      "5/5 [==============================] - 0s 88ms/step - loss: 0.0014 - categorical_accuracy: 1.0000 - val_loss: 3.9832e-04 - val_categorical_accuracy: 1.0000\n",
      "Epoch 44/100\n",
      "5/5 [==============================] - 0s 92ms/step - loss: 0.0015 - categorical_accuracy: 1.0000 - val_loss: 3.6021e-04 - val_categorical_accuracy: 1.0000\n",
      "Epoch 45/100\n",
      "5/5 [==============================] - 0s 96ms/step - loss: 0.0015 - categorical_accuracy: 1.0000 - val_loss: 2.1169e-04 - val_categorical_accuracy: 1.0000\n",
      "Epoch 46/100\n",
      "5/5 [==============================] - 0s 92ms/step - loss: 0.0013 - categorical_accuracy: 1.0000 - val_loss: 1.9527e-04 - val_categorical_accuracy: 1.0000\n",
      "Epoch 47/100\n",
      "5/5 [==============================] - 0s 92ms/step - loss: 0.0011 - categorical_accuracy: 1.0000 - val_loss: 1.7970e-04 - val_categorical_accuracy: 1.0000\n",
      "Epoch 48/100\n",
      "5/5 [==============================] - 0s 91ms/step - loss: 0.0013 - categorical_accuracy: 1.0000 - val_loss: 1.7280e-04 - val_categorical_accuracy: 1.0000\n",
      "Epoch 49/100\n",
      "5/5 [==============================] - 0s 92ms/step - loss: 0.0015 - categorical_accuracy: 1.0000 - val_loss: 1.5230e-04 - val_categorical_accuracy: 1.0000\n",
      "Epoch 50/100\n",
      "5/5 [==============================] - 0s 94ms/step - loss: 0.0012 - categorical_accuracy: 1.0000 - val_loss: 1.3846e-04 - val_categorical_accuracy: 1.0000\n",
      "Epoch 51/100\n",
      "5/5 [==============================] - 0s 90ms/step - loss: 9.2357e-04 - categorical_accuracy: 1.0000 - val_loss: 1.4218e-04 - val_categorical_accuracy: 1.0000\n",
      "Epoch 52/100\n",
      "5/5 [==============================] - 0s 90ms/step - loss: 0.0014 - categorical_accuracy: 1.0000 - val_loss: 1.4363e-04 - val_categorical_accuracy: 1.0000\n",
      "Epoch 53/100\n",
      "5/5 [==============================] - 0s 92ms/step - loss: 9.3098e-04 - categorical_accuracy: 1.0000 - val_loss: 1.8102e-04 - val_categorical_accuracy: 1.0000\n",
      "Epoch 54/100\n",
      "5/5 [==============================] - 0s 90ms/step - loss: 9.7433e-04 - categorical_accuracy: 1.0000 - val_loss: 1.6597e-04 - val_categorical_accuracy: 1.0000\n",
      "Epoch 55/100\n",
      "5/5 [==============================] - 0s 92ms/step - loss: 9.1579e-04 - categorical_accuracy: 1.0000 - val_loss: 1.6213e-04 - val_categorical_accuracy: 1.0000\n",
      "Epoch 56/100\n",
      "5/5 [==============================] - 0s 92ms/step - loss: 0.0011 - categorical_accuracy: 1.0000 - val_loss: 1.4811e-04 - val_categorical_accuracy: 1.0000\n",
      "Epoch 57/100\n",
      "5/5 [==============================] - 0s 96ms/step - loss: 9.4094e-04 - categorical_accuracy: 1.0000 - val_loss: 1.2195e-04 - val_categorical_accuracy: 1.0000\n",
      "Epoch 58/100\n",
      "5/5 [==============================] - 0s 99ms/step - loss: 8.6029e-04 - categorical_accuracy: 1.0000 - val_loss: 1.1334e-04 - val_categorical_accuracy: 1.0000\n",
      "Epoch 59/100\n",
      "5/5 [==============================] - 0s 93ms/step - loss: 9.3463e-04 - categorical_accuracy: 1.0000 - val_loss: 1.1729e-04 - val_categorical_accuracy: 1.0000\n",
      "Epoch 60/100\n",
      "5/5 [==============================] - 0s 94ms/step - loss: 0.0011 - categorical_accuracy: 1.0000 - val_loss: 1.1951e-04 - val_categorical_accuracy: 1.0000\n",
      "Epoch 61/100\n",
      "5/5 [==============================] - 0s 90ms/step - loss: 0.0010 - categorical_accuracy: 1.0000 - val_loss: 1.1534e-04 - val_categorical_accuracy: 1.0000\n",
      "Epoch 62/100\n",
      "5/5 [==============================] - 0s 92ms/step - loss: 9.9226e-04 - categorical_accuracy: 1.0000 - val_loss: 1.1928e-04 - val_categorical_accuracy: 1.0000\n",
      "Epoch 63/100\n",
      "5/5 [==============================] - 0s 92ms/step - loss: 7.8494e-04 - categorical_accuracy: 1.0000 - val_loss: 1.1815e-04 - val_categorical_accuracy: 1.0000\n",
      "Epoch 64/100\n",
      "5/5 [==============================] - 0s 98ms/step - loss: 8.2234e-04 - categorical_accuracy: 1.0000 - val_loss: 1.0879e-04 - val_categorical_accuracy: 1.0000\n",
      "Epoch 65/100\n",
      "5/5 [==============================] - 0s 96ms/step - loss: 8.3402e-04 - categorical_accuracy: 1.0000 - val_loss: 1.0358e-04 - val_categorical_accuracy: 1.0000\n",
      "Epoch 66/100\n",
      "5/5 [==============================] - 0s 96ms/step - loss: 8.6106e-04 - categorical_accuracy: 1.0000 - val_loss: 9.3941e-05 - val_categorical_accuracy: 1.0000\n",
      "Epoch 67/100\n",
      "5/5 [==============================] - 0s 96ms/step - loss: 6.5102e-04 - categorical_accuracy: 1.0000 - val_loss: 8.7400e-05 - val_categorical_accuracy: 1.0000\n",
      "Epoch 68/100\n",
      "5/5 [==============================] - 0s 93ms/step - loss: 7.3508e-04 - categorical_accuracy: 1.0000 - val_loss: 9.7926e-05 - val_categorical_accuracy: 1.0000\n",
      "Epoch 69/100\n",
      "5/5 [==============================] - 0s 102ms/step - loss: 9.0292e-04 - categorical_accuracy: 1.0000 - val_loss: 9.7564e-05 - val_categorical_accuracy: 1.0000\n",
      "Epoch 70/100\n",
      "5/5 [==============================] - 0s 89ms/step - loss: 5.6096e-04 - categorical_accuracy: 1.0000 - val_loss: 1.0073e-04 - val_categorical_accuracy: 1.0000\n",
      "Epoch 71/100\n",
      "5/5 [==============================] - 0s 100ms/step - loss: 9.2004e-04 - categorical_accuracy: 1.0000 - val_loss: 8.4872e-05 - val_categorical_accuracy: 1.0000\n",
      "Epoch 72/100\n",
      "5/5 [==============================] - 0s 100ms/step - loss: 6.7039e-04 - categorical_accuracy: 1.0000 - val_loss: 8.7489e-05 - val_categorical_accuracy: 1.0000\n",
      "Epoch 73/100\n",
      "5/5 [==============================] - 0s 102ms/step - loss: 6.5146e-04 - categorical_accuracy: 1.0000 - val_loss: 8.3076e-05 - val_categorical_accuracy: 1.0000\n",
      "Epoch 74/100\n",
      "5/5 [==============================] - 0s 98ms/step - loss: 6.7614e-04 - categorical_accuracy: 1.0000 - val_loss: 7.7971e-05 - val_categorical_accuracy: 1.0000\n",
      "Epoch 75/100\n",
      "5/5 [==============================] - 0s 94ms/step - loss: 6.1041e-04 - categorical_accuracy: 1.0000 - val_loss: 7.7013e-05 - val_categorical_accuracy: 1.0000\n",
      "Epoch 76/100\n",
      "5/5 [==============================] - 0s 98ms/step - loss: 6.0327e-04 - categorical_accuracy: 1.0000 - val_loss: 7.3816e-05 - val_categorical_accuracy: 1.0000\n",
      "Epoch 77/100\n",
      "5/5 [==============================] - 0s 94ms/step - loss: 7.7780e-04 - categorical_accuracy: 1.0000 - val_loss: 9.4193e-05 - val_categorical_accuracy: 1.0000\n",
      "Epoch 78/100\n",
      "5/5 [==============================] - 0s 96ms/step - loss: 7.5119e-04 - categorical_accuracy: 1.0000 - val_loss: 1.4937e-04 - val_categorical_accuracy: 1.0000\n",
      "Epoch 79/100\n",
      "5/5 [==============================] - 0s 94ms/step - loss: 8.4813e-04 - categorical_accuracy: 1.0000 - val_loss: 8.8770e-05 - val_categorical_accuracy: 1.0000\n",
      "Epoch 80/100\n",
      "5/5 [==============================] - 0s 96ms/step - loss: 6.3618e-04 - categorical_accuracy: 1.0000 - val_loss: 9.9189e-05 - val_categorical_accuracy: 1.0000\n",
      "Epoch 81/100\n",
      "5/5 [==============================] - 0s 95ms/step - loss: 7.5755e-04 - categorical_accuracy: 1.0000 - val_loss: 8.4512e-05 - val_categorical_accuracy: 1.0000\n",
      "Epoch 82/100\n",
      "5/5 [==============================] - 0s 92ms/step - loss: 5.4214e-04 - categorical_accuracy: 1.0000 - val_loss: 1.0376e-04 - val_categorical_accuracy: 1.0000\n",
      "Epoch 83/100\n",
      "5/5 [==============================] - 0s 95ms/step - loss: 6.7804e-04 - categorical_accuracy: 1.0000 - val_loss: 1.1731e-04 - val_categorical_accuracy: 1.0000\n",
      "Epoch 84/100\n",
      "5/5 [==============================] - 0s 100ms/step - loss: 6.5084e-04 - categorical_accuracy: 1.0000 - val_loss: 8.0425e-05 - val_categorical_accuracy: 1.0000\n",
      "Epoch 85/100\n",
      "5/5 [==============================] - 0s 103ms/step - loss: 6.3664e-04 - categorical_accuracy: 1.0000 - val_loss: 6.8184e-05 - val_categorical_accuracy: 1.0000\n",
      "Epoch 86/100\n",
      "5/5 [==============================] - 0s 96ms/step - loss: 7.2520e-04 - categorical_accuracy: 1.0000 - val_loss: 6.6663e-05 - val_categorical_accuracy: 1.0000\n",
      "Epoch 87/100\n",
      "5/5 [==============================] - 0s 99ms/step - loss: 5.8204e-04 - categorical_accuracy: 1.0000 - val_loss: 6.6709e-05 - val_categorical_accuracy: 1.0000\n",
      "Epoch 88/100\n",
      "5/5 [==============================] - 0s 96ms/step - loss: 5.6123e-04 - categorical_accuracy: 1.0000 - val_loss: 6.7278e-05 - val_categorical_accuracy: 1.0000\n",
      "Epoch 89/100\n",
      "5/5 [==============================] - 0s 96ms/step - loss: 6.1446e-04 - categorical_accuracy: 1.0000 - val_loss: 6.6980e-05 - val_categorical_accuracy: 1.0000\n",
      "Epoch 90/100\n",
      "5/5 [==============================] - 0s 100ms/step - loss: 4.6744e-04 - categorical_accuracy: 1.0000 - val_loss: 6.4453e-05 - val_categorical_accuracy: 1.0000\n",
      "Epoch 91/100\n",
      "5/5 [==============================] - 0s 99ms/step - loss: 5.9983e-04 - categorical_accuracy: 1.0000 - val_loss: 6.2782e-05 - val_categorical_accuracy: 1.0000\n",
      "Epoch 92/100\n",
      "5/5 [==============================] - 0s 98ms/step - loss: 5.7794e-04 - categorical_accuracy: 1.0000 - val_loss: 6.5152e-05 - val_categorical_accuracy: 1.0000\n",
      "Epoch 93/100\n",
      "5/5 [==============================] - 0s 98ms/step - loss: 6.7909e-04 - categorical_accuracy: 1.0000 - val_loss: 6.5748e-05 - val_categorical_accuracy: 1.0000\n",
      "Epoch 94/100\n",
      "5/5 [==============================] - 0s 102ms/step - loss: 7.0667e-04 - categorical_accuracy: 1.0000 - val_loss: 6.1915e-05 - val_categorical_accuracy: 1.0000\n",
      "Epoch 95/100\n",
      "5/5 [==============================] - 0s 101ms/step - loss: 5.8111e-04 - categorical_accuracy: 1.0000 - val_loss: 5.7913e-05 - val_categorical_accuracy: 1.0000\n",
      "Epoch 96/100\n",
      "5/5 [==============================] - 0s 99ms/step - loss: 5.0777e-04 - categorical_accuracy: 1.0000 - val_loss: 5.5833e-05 - val_categorical_accuracy: 1.0000\n",
      "Epoch 97/100\n",
      "5/5 [==============================] - 0s 96ms/step - loss: 4.3006e-04 - categorical_accuracy: 1.0000 - val_loss: 5.5711e-05 - val_categorical_accuracy: 1.0000\n",
      "Epoch 98/100\n",
      "5/5 [==============================] - 0s 100ms/step - loss: 5.3135e-04 - categorical_accuracy: 1.0000 - val_loss: 4.7506e-05 - val_categorical_accuracy: 1.0000\n",
      "Epoch 99/100\n",
      "5/5 [==============================] - 0s 96ms/step - loss: 3.6279e-04 - categorical_accuracy: 1.0000 - val_loss: 4.8454e-05 - val_categorical_accuracy: 1.0000\n",
      "Epoch 100/100\n",
      "5/5 [==============================] - 0s 94ms/step - loss: 4.3963e-04 - categorical_accuracy: 1.0000 - val_loss: 4.9936e-05 - val_categorical_accuracy: 1.0000\n",
      "13/13 [==============================] - 0s 16ms/step - loss: 4.0425e-05 - categorical_accuracy: 1.0000\n",
      "4.042471482534893e-05 1.0\n"
     ]
    }
   ],
   "source": [
    "\n",
    "input_image = Input(shape=(img_size[0],img_size[1], 3) , name='input')\n",
    "\n",
    "c1 = Conv2D(20, (4,4), activation='relu')(input_image)\n",
    "m1 = MaxPool2D((2,2))(c1)\n",
    "\n",
    "c2 = Conv2D(40, (3,3), activation='relu')(m1)\n",
    "m2 = MaxPool2D((2,2))(c2)\n",
    "\n",
    "c3 = Conv2D(60, (3,3), activation='relu')(m2)\n",
    "m3 = MaxPool2D((2,2))(c3)\n",
    "\n",
    "c4 = Conv2D(80, (2,2), activation='sigmoid')(m3)\n",
    "\n",
    "f1 = Flatten()(c4)\n",
    "\n",
    "d1 = Dense(512 , activation='sigmoid')(f1)\n",
    "dropout = Dropout(0.8)(d1)\n",
    "output = Dense(n , activation='softmax')(dropout)\n",
    "\n",
    "model = Model(inputs=[input_image], outputs=[output])\n",
    "\n",
    "\n",
    "model.compile(optimizer='adam', loss= keras.losses.CategoricalCrossentropy(), metrics=keras.metrics.CategoricalAccuracy())\n",
    "\n",
    "epoch = 100\n",
    "batch_size =  256\n",
    "patience = 20\n",
    "callback = keras.callbacks.EarlyStopping(monitor='val_loss' , patience=patience, restore_best_weights=True  )\n",
    "history = model.fit(np.array(X_train), np.array(Y_train), epochs=epoch, batch_size =batch_size,validation_data=( np.array(X_val),np.array(Y_val)) ,callbacks=[callback] , use_multiprocessing = True)\n",
    "# history = model.fit(np.array(X_train), np.array(Y_train), epochs=100, batch_size = 64,validation_data=( np.array(X_val),np.array(Y_val)))\n",
    "\n",
    "# history = model.fit(X_train, Y_train, epochs=epoch ,batch_size=batch_size, validation_data=( X_val,Y_val), callbacks=[callback] )\n",
    "score, acc = model.evaluate(np.array(X_test), np.array(Y_test) )\n",
    "print(score,acc)"
   ],
   "metadata": {
    "collapsed": false,
    "ExecuteTime": {
     "end_time": "2023-06-21T14:36:47.333186200Z",
     "start_time": "2023-06-21T14:35:43.447985400Z"
    }
   }
  },
  {
   "cell_type": "code",
   "execution_count": null,
   "outputs": [],
   "source": [
    "import keras\n",
    "\n",
    "model = Sequential()\n",
    "model.add(Rescaling(1/255., input_shape=(img_size[0],img_size[1],3), name='input'))\n",
    "\n",
    "\n",
    "model.add(Conv2D(32, (4, 4) , activation='relu'))\n",
    "model.add(MaxPooling2D(pool_size=(2, 2) , strides=1))\n",
    "model.add(Dropout(0.3))\n",
    "\n",
    "model.add(Conv2D(64, (3, 3), activation='relu'))\n",
    "model.add(MaxPooling2D(pool_size=(2, 2), strides=1))\n",
    "model.add(Dropout(0.3))\n",
    "\n",
    "model.add(Conv2D(128, (3, 3), activation='relu'))\n",
    "model.add(MaxPooling2D(pool_size=(2, 2),strides=1))\n",
    "model.add(Dropout(0.3))\n",
    "\n",
    "# model.add(Conv2D(64, (3, 3), activation='relu'))\n",
    "\n",
    "\n",
    "\n",
    "model.add(Flatten())\n",
    "\n",
    "model.add(Dense(1024, activation='relu'))\n",
    "model.add(Dropout(0.8))\n",
    "\n",
    "\n",
    "model.add(Dense(n, activation='softmax' , name='output'))\n",
    "\n",
    "# dot_img_file = 'C:\\\\Users\\\\bpk_e.EMRE\\\\Desktop\\\\PROJECTS\\\\chatBot\\\\ImageProcessing\\\\colorFeret\\\\model.png'\n",
    "# tf.keras.utils.plot_model(model, to_file=dot_img_file, show_shapes=True)\n",
    "# opt = tf.keras.optimizers.experimental.SGD(0.05 )\n",
    "# opt =  optimizers.SGD(lr=0.01, decay=1e-6, momentum=0.9, nesterov=True)\n",
    "# opt =  optimizers.Adam(learning_rate=1e-4)\n",
    "# opt =  optimizers.SGD(learning_rate=0.005, decay=1e-6, momentum=0.9, nesterov=True)\n",
    "\n",
    "model.compile(optimizer='adam', loss= keras.losses.CategoricalCrossentropy(), metrics=keras.metrics.CategoricalAccuracy())\n",
    "\n",
    "epoch = 100\n",
    "batch_size =  32\n",
    "patience = 20\n",
    "callback = keras.callbacks.EarlyStopping(monitor='val_loss' , patience=patience, restore_best_weights=True  )\n",
    "history = model.fit(np.array(X_train), np.array(Y_train), epochs=epoch, batch_size =batch_size,validation_data=( np.array(X_val),np.array(Y_val)) ,callbacks=[callback] , use_multiprocessing = True)\n",
    "# history = model.fit(np.array(X_train), np.array(Y_train), epochs=100, batch_size = 64,validation_data=( np.array(X_val),np.array(Y_val)))\n",
    "\n",
    "# history = model.fit(X_train, Y_train, epochs=epoch ,batch_size=batch_size, validation_data=( X_val,Y_val), callbacks=[callback] )\n",
    "score, acc = model.evaluate(np.array(X_test), np.array(Y_test) )\n",
    "print(score,acc)\n",
    "\n"
   ],
   "metadata": {
    "collapsed": false
   }
  },
  {
   "cell_type": "code",
   "execution_count": 10,
   "outputs": [
    {
     "name": "stdout",
     "output_type": "stream",
     "text": [
      "<keras.engine.functional.Functional object at 0x0000026395AAB040>\n",
      "Model: \"model\"\n",
      "_________________________________________________________________\n",
      " Layer (type)                Output Shape              Param #   \n",
      "=================================================================\n",
      " input (InputLayer)          [(None, 100, 100, 3)]     0         \n",
      "                                                                 \n",
      " conv2d (Conv2D)             (None, 97, 97, 20)        980       \n",
      "                                                                 \n",
      " max_pooling2d (MaxPooling2D  (None, 48, 48, 20)       0         \n",
      " )                                                               \n",
      "                                                                 \n",
      " conv2d_1 (Conv2D)           (None, 46, 46, 40)        7240      \n",
      "                                                                 \n",
      " max_pooling2d_1 (MaxPooling  (None, 23, 23, 40)       0         \n",
      " 2D)                                                             \n",
      "                                                                 \n",
      " conv2d_2 (Conv2D)           (None, 21, 21, 60)        21660     \n",
      "                                                                 \n",
      " max_pooling2d_2 (MaxPooling  (None, 10, 10, 60)       0         \n",
      " 2D)                                                             \n",
      "                                                                 \n",
      " conv2d_3 (Conv2D)           (None, 9, 9, 80)          19280     \n",
      "                                                                 \n",
      " flatten (Flatten)           (None, 6480)              0         \n",
      "                                                                 \n",
      " dense (Dense)               (None, 512)               3318272   \n",
      "                                                                 \n",
      " dropout (Dropout)           (None, 512)               0         \n",
      "                                                                 \n",
      " dense_1 (Dense)             (None, 7)                 3591      \n",
      "                                                                 \n",
      "=================================================================\n",
      "Total params: 3,371,023\n",
      "Trainable params: 3,371,023\n",
      "Non-trainable params: 0\n",
      "_________________________________________________________________\n",
      "KerasTensor(type_spec=TensorSpec(shape=(None, 100, 100, 3), dtype=tf.float32, name='input'), name='input', description=\"created by layer 'input'\")\n"
     ]
    },
    {
     "name": "stderr",
     "output_type": "stream",
     "text": [
      "WARNING:absl:Found untraced functions such as _jit_compiled_convolution_op, _jit_compiled_convolution_op, _jit_compiled_convolution_op, _jit_compiled_convolution_op while saving (showing 4 of 4). These functions will not be directly callable after loading.\n"
     ]
    },
    {
     "name": "stdout",
     "output_type": "stream",
     "text": [
      "INFO:tensorflow:Assets written to: C:\\Users\\bpk_e.EMRE\\Desktop\\PROJECTS\\chatBotLastPhase\\ImageProcessing\\Model\\fr_model_3\\assets\n"
     ]
    },
    {
     "name": "stderr",
     "output_type": "stream",
     "text": [
      "INFO:tensorflow:Assets written to: C:\\Users\\bpk_e.EMRE\\Desktop\\PROJECTS\\chatBotLastPhase\\ImageProcessing\\Model\\fr_model_3\\assets\n"
     ]
    }
   ],
   "source": [
    "# Saved TF model path\n",
    "print(model)\n",
    "model.summary()\n",
    "layer = model.get_layer('input')\n",
    "\n",
    "print(layer.input)\n",
    "# Directory to export new model\n",
    "\n",
    "model.save(\"C:\\\\Users\\\\bpk_e.EMRE\\\\Desktop\\\\PROJECTS\\\\chatBotLastPhase\\\\ImageProcessing\\\\Model\\\\fr_model_3\")"
   ],
   "metadata": {
    "collapsed": false,
    "ExecuteTime": {
     "end_time": "2023-06-21T14:36:56.770507100Z",
     "start_time": "2023-06-21T14:36:52.397695400Z"
    }
   }
  },
  {
   "cell_type": "code",
   "execution_count": 11,
   "outputs": [
    {
     "name": "stdout",
     "output_type": "stream",
     "text": [
      "{0: 'Akhilesh', 1: 'Anna', 2: 'Emmanuel', 3: 'Emre_Karabulut', 4: 'Gabrijel', 5: 'Joshua', 6: 'Lea'}\n"
     ]
    }
   ],
   "source": [
    "# labels = np.flip(np.unique(Y_train,axis=0),1)\n",
    "\n",
    "labels = np.unique(Y_filtered)\n",
    "indices = range(0,len(labels))\n",
    "dict_ = {indices[i]: labels[i] for i in range(len(labels))}\n",
    "\n",
    "print(dict_)\n",
    "import json\n",
    "with open('C:\\\\Users\\\\bpk_e.EMRE\\\\Desktop\\\\PROJECTS\\\\chatBotLastPhase\\\\ImageProcessing\\\\Model\\\\labels.json', 'w') as f:\n",
    "    json.dump(dict_, f)"
   ],
   "metadata": {
    "collapsed": false,
    "ExecuteTime": {
     "end_time": "2023-06-21T14:39:04.791500700Z",
     "start_time": "2023-06-21T14:39:04.697772900Z"
    }
   }
  },
  {
   "cell_type": "code",
   "execution_count": null,
   "outputs": [],
   "source": [
    "\n",
    "# index = 14\n",
    "# img = X_train[index]\n",
    "# label_encoded = Y_train[index]\n",
    "# label_index = np.where(label_encoded == 1 )[0]\n",
    "# label = labels[label_index]\n",
    "# print(label)\n",
    "img = cv2.imread('C:\\\\Users\\\\bpk_e.EMRE\\\\Desktop\\\\PROJECTS\\\\chatBot\\\\ImageProcessing\\\\Data\\\\Images\\\\Emre_Karabulut\\\\Emre.1.jpg',0)\n",
    "# img = hist_eq(img)\n",
    "img = cv2.resize(img, img_size , cv2.INTER_AREA)\n",
    "img_array = tf.keras.utils.img_to_array(img)\n",
    "img_array = tf.expand_dims(img_array, 0)\n",
    "\n",
    "predictions = model.predict(img_array)\n",
    "print(predictions * 100 )\n",
    "\n",
    "print(\n",
    "    \"This image most likely belongs to {} with a {:.2f} percent confidence.\"\n",
    "    .format(labels[np.argmax(predictions[0] )], 100 * np.max(predictions[0]))\n",
    ")\n"
   ],
   "metadata": {
    "collapsed": false
   }
  },
  {
   "cell_type": "code",
   "execution_count": null,
   "outputs": [],
   "source": [
    "import matplotlib.pyplot as plt\n",
    "\n",
    "history_dict = history.history\n",
    "loss_values = history_dict['loss']\n",
    "val_loss_values = history_dict['val_loss']\n",
    "accuracy = history_dict['categorical_accuracy']\n",
    "val_accuracy = history_dict['val_categorical_accuracy']\n",
    "\n",
    "epochs = range(1, len(loss_values) + 1)\n",
    "fig, ax = plt.subplots(1, 2, figsize=(14, 6))\n",
    "#\n",
    "# Plot the model accuracy vs Epochs\n",
    "#\n",
    "ax[0].plot(epochs, accuracy, label='Training accuracy')\n",
    "ax[0].plot(epochs, val_accuracy, label='Validation accuracy')\n",
    "ax[0].set_title('Training & Validation Accuracy', fontsize=16)\n",
    "ax[0].set_xlabel('Epochs', fontsize=16)\n",
    "ax[0].set_ylabel('Accuracy', fontsize=16)\n",
    "ax[0].legend()\n",
    "#\n",
    "# Plot the loss vs Epochs\n",
    "#\n",
    "ax[1].plot(epochs, loss_values, label='Training loss')\n",
    "ax[1].plot(epochs, val_loss_values, label='Validation loss')\n",
    "ax[1].set_title('Training & Validation Loss', fontsize=16)\n",
    "ax[1].set_xlabel('Epochs', fontsize=16)\n",
    "ax[1].set_ylabel('Loss', fontsize=16)\n",
    "ax[1].legend()\n",
    "\n"
   ],
   "metadata": {
    "collapsed": false
   }
  },
  {
   "cell_type": "code",
   "execution_count": null,
   "outputs": [],
   "source": [
    "# reset_gpu_memory()"
   ],
   "metadata": {
    "collapsed": false
   }
  },
  {
   "cell_type": "code",
   "execution_count": null,
   "outputs": [],
   "source": [
    "# face_classifier = cv2.CascadeClassifier(\"C:\\\\Users\\\\bpk_e.EMRE\\\\Desktop\\\\PROJECTS\\\\chatBot\\\\ImageProcessing\\\\haarcascade_frontalface_default.xml\")\n",
    "# def face_cropped(img):\n",
    "#     gray = cv2.cvtColor(img, cv2.COLOR_BGR2GRAY)\n",
    "#     faces = face_classifier.detectMultiScale(gray, scaleFactor=1.1, minNeighbors=5)\n",
    "#\n",
    "#     if len(faces) == 0:\n",
    "#         print(\"NO FACE DETECTED!!\")\n",
    "#         return None\n",
    "#     for (x, y, w, h) in faces:\n",
    "#         margin = 10\n",
    "#         cropped_face = img[y-margin:y + h+margin, x-margin:x + w+margin]\n",
    "#     return cropped_face\n",
    "#\n",
    "#\n",
    "# def generate_dataset(name):\n",
    "#     cap = cv2.VideoCapture(0)\n",
    "#\n",
    "#     img_id = 0\n",
    "#     print(\"usao\")\n",
    "#     while True:\n",
    "#         ret, frame = cap.read()\n",
    "#         if face_cropped(frame) is not None:\n",
    "#             img_id += 1\n",
    "#             face = cv2.resize(face_cropped(frame), (224, 224))\n",
    "#             face = cv2.cvtColor(face, cv2.COLOR_BGR2GRAY)\n",
    "#\n",
    "#             file_name_path = \"Images\\\\\" + name + \"_\" + str(img_id) + '.jpg'\n",
    "#             cv2.imwrite(file_name_path, face)\n",
    "#             # cv2.putText(face, str(img_id), (224, 224), cv2.FONT_HERSHEY_COMPLEX, 1, (0, 255, 0), 2)\n",
    "#\n",
    "#             cv2.imshow(\"Cropped_Face\", face)\n",
    "#             if cv2.waitKey(1) == 13 or int(img_id) == 100:\n",
    "#                 break\n",
    "#\n",
    "#     cap.release()\n",
    "#     cv2.destroyAllWindows()\n",
    "#     print(\"Collecting samples is completed !!!\")\n",
    "# generate_dataset(\"emre\")"
   ],
   "metadata": {
    "collapsed": false
   }
  },
  {
   "cell_type": "code",
   "execution_count": null,
   "outputs": [],
   "source": [],
   "metadata": {
    "collapsed": false
   }
  }
 ],
 "metadata": {
  "kernelspec": {
   "display_name": "Python 3",
   "language": "python",
   "name": "python3"
  },
  "language_info": {
   "codemirror_mode": {
    "name": "ipython",
    "version": 2
   },
   "file_extension": ".py",
   "mimetype": "text/x-python",
   "name": "python",
   "nbconvert_exporter": "python",
   "pygments_lexer": "ipython2",
   "version": "2.7.6"
  }
 },
 "nbformat": 4,
 "nbformat_minor": 0
}
