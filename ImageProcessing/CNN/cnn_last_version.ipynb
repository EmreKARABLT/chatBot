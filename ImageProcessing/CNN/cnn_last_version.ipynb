{
 "cells": [
  {
   "cell_type": "code",
   "execution_count": 7,
   "metadata": {
    "collapsed": true,
    "ExecuteTime": {
     "end_time": "2023-06-14T15:08:52.626632Z",
     "start_time": "2023-06-14T15:08:52.611670400Z"
    }
   },
   "outputs": [
    {
     "name": "stdout",
     "output_type": "stream",
     "text": [
      "[PhysicalDevice(name='/physical_device:GPU:0', device_type='GPU')]\n"
     ]
    }
   ],
   "source": [
    "import cv2\n",
    "from keras import Sequential,Model\n",
    "from keras.layers import Conv2D, MaxPooling2D, Flatten, Dense , Input , MaxPool2D\n",
    "from sklearn.model_selection import train_test_split\n",
    "from sklearn.preprocessing import LabelBinarizer\n",
    "import matplotlib.pyplot as plt\n",
    "from keras.layers import Rescaling,Dropout\n",
    "import numpy as np\n",
    "import tensorflow as tf\n",
    "from tensorflow import keras\n",
    "print(tf.config.list_physical_devices('GPU'))\n"
   ]
  },
  {
   "cell_type": "code",
   "execution_count": 8,
   "outputs": [],
   "source": [
    "import os\n",
    "\n",
    "import cv2\n",
    "import numpy as np\n",
    "from PIL import Image\n",
    "\n",
    "\n",
    "class database():\n",
    "    def __init__(self , path_face_classifier , path_IMAGE_DIR):\n",
    "        self.face_classifier = cv2.CascadeClassifier(path_face_classifier)\n",
    "        self.IMAGE_DIR = path_IMAGE_DIR\n",
    "\n",
    "    def my_data(self , height , width ):\n",
    "\n",
    "        x_train = []\n",
    "        y_labels = []\n",
    "        for root, directories, files in os.walk(self.IMAGE_DIR):\n",
    "\n",
    "            for file in files:\n",
    "                if file.endswith(\"png\") or file.endswith(\"jpg\") :\n",
    "                    path = os.path.join(root, file)\n",
    "\n",
    "                    label = os.path.basename(os.path.dirname(path))\n",
    "\n",
    "                    image = cv2.imread(path)\n",
    "                    rgb = cv2.cvtColor(image, cv2.COLOR_BGR2RGB)\n",
    "                    gray = cv2.cvtColor(image,cv2.COLOR_BGR2GRAY)\n",
    "\n",
    "\n",
    "                    faces = self.face_classifier.detectMultiScale(gray, scaleFactor=1.1, minNeighbors=5)\n",
    "\n",
    "\n",
    "\n",
    "                    for x, y, w, h in faces:\n",
    "                        rect_rgb = rgb[y:y + h, x:x + w]\n",
    "                        rect_rgb = cv2.resize(rect_rgb, (height, width), interpolation=cv2.INTER_CUBIC)\n",
    "\n",
    "                        x_train.append(rect_rgb)\n",
    "                        y_labels.append(label)\n",
    "\n",
    "        print(\"LFW data set created\")\n",
    "\n",
    "        return x_train , y_labels\n",
    "\n"
   ],
   "metadata": {
    "collapsed": false,
    "ExecuteTime": {
     "end_time": "2023-06-14T15:08:53.020357500Z",
     "start_time": "2023-06-14T15:08:52.988925800Z"
    }
   }
  },
  {
   "cell_type": "code",
   "execution_count": 9,
   "outputs": [],
   "source": [
    "# from ImageProcessing.colorFeret.colorFeret import colorFeret\n",
    "# img_size = (384, 256)\n",
    "\n",
    "# _ , x_images , y_labels , n = colorFeret().load_dataset(max_angle = 70 , root = \"C:\\\\Users\\\\bpk_e.EMRE\\\\Desktop\\\\PROJECTS\\\\chatBot\\\\ImageProcessing\\\\colorFeret\")\n",
    "#\n"
   ],
   "metadata": {
    "collapsed": false,
    "ExecuteTime": {
     "end_time": "2023-06-14T15:08:53.761680800Z",
     "start_time": "2023-06-14T15:08:53.738740800Z"
    }
   }
  },
  {
   "cell_type": "code",
   "execution_count": 10,
   "outputs": [
    {
     "name": "stdout",
     "output_type": "stream",
     "text": [
      "LFW data set created\n"
     ]
    },
    {
     "data": {
      "text/plain": "100"
     },
     "execution_count": 10,
     "metadata": {},
     "output_type": "execute_result"
    }
   ],
   "source": [
    "img_size = (100 ,100, 3)\n",
    "\n",
    "face_classifier = \"C:\\\\Users\\\\bpk_e.EMRE\\\\Desktop\\\\PROJECTS\\\\chatBot\\\\ImageProcessing\\\\haarcascade_frontalface_default.xml\"\n",
    "IMAGE_DIR = \"C:\\\\Users\\\\bpk_e.EMRE\\\\Desktop\\\\PROJECTS\\\\chatBotLastPhase\\\\ImageProcessing\\\\Data\\\\Images\"\n",
    "\n",
    "x_images, y_labels = database(path_face_classifier=face_classifier , path_IMAGE_DIR = IMAGE_DIR).my_data( height=img_size[0],width=img_size[1])\n",
    "\n",
    "len(x_images)\n"
   ],
   "metadata": {
    "collapsed": false,
    "ExecuteTime": {
     "end_time": "2023-06-14T15:08:56.599975300Z",
     "start_time": "2023-06-14T15:08:54.052502Z"
    }
   }
  },
  {
   "cell_type": "code",
   "execution_count": 13,
   "outputs": [],
   "source": [
    "def data_aug(x_images, y_labels , copy_number_per_image):\n",
    "    data = []\n",
    "    labels = []\n",
    "    for i in range(len(x_images)):\n",
    "        img = x_images[i]\n",
    "        label = y_labels[i]\n",
    "\n",
    "        for j in range(copy_number_per_image):\n",
    "\n",
    "            img_ = tf.image.stateless_random_brightness(img, max_delta=0.02, seed=(1, 2))\n",
    "            img_ = tf.image.stateless_random_contrast(img_, lower=0.6, upper=1, seed=(1,3))\n",
    "            img_ = tf.image.stateless_random_flip_left_right(img_, seed=(np.random.randint(100),np.random.randint(100)))\n",
    "            img_ = tf.image.stateless_random_jpeg_quality(img_, min_jpeg_quality=90, max_jpeg_quality=100, seed=(np.random.randint(100),np.random.randint(100)))\n",
    "            img_ = tf.image.stateless_random_saturation(img_, lower=0.9,upper=1, seed=(np.random.randint(100),np.random.randint(100)))\n",
    "\n",
    "            data.append(img_)\n",
    "            labels.append(label)\n",
    "    print(len(data), len(labels))\n",
    "    return data , labels\n"
   ],
   "metadata": {
    "collapsed": false,
    "ExecuteTime": {
     "end_time": "2023-06-14T15:13:18.930773400Z",
     "start_time": "2023-06-14T15:13:18.912779800Z"
    }
   }
  },
  {
   "cell_type": "code",
   "execution_count": 14,
   "outputs": [
    {
     "name": "stdout",
     "output_type": "stream",
     "text": [
      "300 300\n"
     ]
    },
    {
     "name": "stderr",
     "output_type": "stream",
     "text": [
      "C:\\Users\\bpk_e.EMRE\\AppData\\Local\\Temp\\ipykernel_10756\\1962504591.py:24: FutureWarning: elementwise comparison failed; returning scalar instead, but in the future will perform elementwise comparison\n",
      "  if len(np.where(labels == y)[0]) >= min_number_of_images_exists_per_person * copy_number and len(np.where(np.array(Y_filtered) == y)[0]) <= max_number_of_images_per_person_in_dataset * copy_number:\n"
     ]
    },
    {
     "name": "stdout",
     "output_type": "stream",
     "text": [
      "300\n",
      "300\n",
      "['Emre_Karabulut']\n",
      "1\n"
     ]
    },
    {
     "data": {
      "text/plain": "<matplotlib.image.AxesImage at 0x2532abb4340>"
     },
     "execution_count": 14,
     "metadata": {},
     "output_type": "execute_result"
    },
    {
     "data": {
      "text/plain": "<Figure size 640x480 with 1 Axes>",
      "image/png": "[encoded data removed]"
     },
     "metadata": {},
     "output_type": "display_data"
    }
   ],
   "source": [
    "import random\n",
    "from scipy import ndimage\n",
    "\n",
    "\n",
    "# def hist_eq(img):\n",
    "#\n",
    "#     clahe = cv2.createCLAHE(clipLimit=2.0, tileGridSize=(8, 8))\n",
    "#     equalized = clahe.apply(img)\n",
    "#     noisy = random_noise(equalized, mode='gaussian', clip=True,mean=0 ,var=1)\n",
    "#     return noisy\n",
    "# for im,label in zip(x_images, y_labels):\n",
    "#     print(type(im), label)\n",
    "copy_number = 3\n",
    "X,Y = data_aug(x_images,y_labels , 3 )\n",
    "\n",
    "X_filtered = []\n",
    "Y_filtered = []\n",
    "\n",
    "min_number_of_images_exists_per_person = 100\n",
    "max_number_of_images_per_person_in_dataset = 100\n",
    "\n",
    "labels = np.array(Y)\n",
    "for x , y  in zip(X,Y):\n",
    "    if len(np.where(labels == y)[0]) >= min_number_of_images_exists_per_person * copy_number and len(np.where(np.array(Y_filtered) == y)[0]) <= max_number_of_images_per_person_in_dataset * copy_number:\n",
    "        random_rotate_angle = random.randint(-5,5)\n",
    "        random_flip_prob_threshold = 0.5\n",
    "        if random.random() < random_flip_prob_threshold:\n",
    "            x = np.flip(x , 1)\n",
    "        x = ndimage.rotate(x, random_rotate_angle , reshape=False)\n",
    "        X_filtered.append(x)\n",
    "        Y_filtered.append(y)\n",
    "print(len(X_filtered))\n",
    "print(len(Y_filtered))\n",
    "print(np.unique(Y_filtered))\n",
    "n = len(np.unique(Y_filtered))\n",
    "print(n)\n",
    "\n",
    "plt.imshow(X_filtered[10] , cmap='gray')\n",
    "\n"
   ],
   "metadata": {
    "collapsed": false,
    "ExecuteTime": {
     "end_time": "2023-06-14T15:13:24.737407800Z",
     "start_time": "2023-06-14T15:13:19.965194600Z"
    }
   }
  },
  {
   "cell_type": "code",
   "execution_count": 15,
   "outputs": [],
   "source": [
    "encoder = LabelBinarizer()\n",
    "\n",
    "Y_encoded = encoder.fit_transform(Y_filtered)\n",
    "# for i , j in zip(Y_filtered,Y_encoded):\n",
    "#     print(i , \" - \" , j)\n",
    "\n",
    "\n",
    "X_train, X_test, Y_train, Y_test = train_test_split(X_filtered,Y_encoded,test_size = 0.2 , shuffle=True , stratify=Y_encoded)\n",
    "X_train, X_val, Y_train, Y_val = train_test_split(X_train,Y_train,test_size = 0.30 , shuffle=True, stratify=Y_train)\n"
   ],
   "metadata": {
    "collapsed": false,
    "ExecuteTime": {
     "end_time": "2023-06-14T15:13:28.225777800Z",
     "start_time": "2023-06-14T15:13:28.179900300Z"
    }
   }
  },
  {
   "cell_type": "code",
   "execution_count": 17,
   "outputs": [
    {
     "name": "stdout",
     "output_type": "stream",
     "text": [
      "165\n",
      "['Emre_Karabulut']\n"
     ]
    },
    {
     "name": "stderr",
     "output_type": "stream",
     "text": [
      "C:\\Users\\bpk_e.EMRE\\AppData\\Local\\Programs\\Python\\Python310\\lib\\site-packages\\matplotlib\\text.py:1279: FutureWarning: elementwise comparison failed; returning scalar instead, but in the future will perform elementwise comparison\n",
      "  if s != self._text:\n"
     ]
    },
    {
     "data": {
      "text/plain": "<Figure size 640x480 with 1 Axes>",
      "image/png": "[encoded data removed]"
     },
     "metadata": {},
     "output_type": "display_data"
    }
   ],
   "source": [
    "i = 165\n",
    "print(i)\n",
    "plt.title((Y_train[i]))\n",
    "plt.imshow(X_train[i] , cmap=\"gray\")\n",
    "print(np.unique(Y_filtered))\n",
    "#\n",
    "# print(\"Data Created !!\")\n",
    "# print(type(X_train))\n",
    "# print(\"Length of training set \" , len(X_train) , len(Y_train))\n",
    "# print(\"Length of validation set \",len(X_val), len(Y_val))\n",
    "# print(\"Length of testing set \",len(X_test), len(Y_test))\n"
   ],
   "metadata": {
    "collapsed": false,
    "ExecuteTime": {
     "end_time": "2023-06-14T15:13:45.260901600Z",
     "start_time": "2023-06-14T15:13:45.072972200Z"
    }
   }
  },
  {
   "cell_type": "code",
   "execution_count": 18,
   "outputs": [
    {
     "name": "stdout",
     "output_type": "stream",
     "text": [
      "Epoch 1/100\n",
      "1/1 [==============================] - 13s 13s/step - loss: 0.0000e+00 - categorical_accuracy: 1.0000 - val_loss: 0.0000e+00 - val_categorical_accuracy: 1.0000\n",
      "Epoch 2/100\n",
      "1/1 [==============================] - 0s 126ms/step - loss: 0.0000e+00 - categorical_accuracy: 1.0000 - val_loss: 0.0000e+00 - val_categorical_accuracy: 1.0000\n",
      "Epoch 3/100\n",
      "1/1 [==============================] - 0s 116ms/step - loss: 0.0000e+00 - categorical_accuracy: 1.0000 - val_loss: 0.0000e+00 - val_categorical_accuracy: 1.0000\n",
      "Epoch 4/100\n",
      "1/1 [==============================] - 0s 118ms/step - loss: 0.0000e+00 - categorical_accuracy: 1.0000 - val_loss: 0.0000e+00 - val_categorical_accuracy: 1.0000\n",
      "Epoch 5/100\n",
      "1/1 [==============================] - 0s 116ms/step - loss: 0.0000e+00 - categorical_accuracy: 1.0000 - val_loss: 0.0000e+00 - val_categorical_accuracy: 1.0000\n",
      "Epoch 6/100\n",
      "1/1 [==============================] - 0s 106ms/step - loss: 0.0000e+00 - categorical_accuracy: 1.0000 - val_loss: 0.0000e+00 - val_categorical_accuracy: 1.0000\n",
      "Epoch 7/100\n",
      "1/1 [==============================] - 0s 113ms/step - loss: 0.0000e+00 - categorical_accuracy: 1.0000 - val_loss: 0.0000e+00 - val_categorical_accuracy: 1.0000\n",
      "Epoch 8/100\n",
      "1/1 [==============================] - 0s 117ms/step - loss: 0.0000e+00 - categorical_accuracy: 1.0000 - val_loss: 0.0000e+00 - val_categorical_accuracy: 1.0000\n",
      "Epoch 9/100\n",
      "1/1 [==============================] - 0s 109ms/step - loss: 0.0000e+00 - categorical_accuracy: 1.0000 - val_loss: 0.0000e+00 - val_categorical_accuracy: 1.0000\n",
      "Epoch 10/100\n",
      "1/1 [==============================] - 0s 88ms/step - loss: 0.0000e+00 - categorical_accuracy: 1.0000 - val_loss: 0.0000e+00 - val_categorical_accuracy: 1.0000\n",
      "Epoch 11/100\n",
      "1/1 [==============================] - 0s 89ms/step - loss: 0.0000e+00 - categorical_accuracy: 1.0000 - val_loss: 0.0000e+00 - val_categorical_accuracy: 1.0000\n",
      "Epoch 12/100\n",
      "1/1 [==============================] - 0s 89ms/step - loss: 0.0000e+00 - categorical_accuracy: 1.0000 - val_loss: 0.0000e+00 - val_categorical_accuracy: 1.0000\n",
      "Epoch 13/100\n",
      "1/1 [==============================] - 0s 90ms/step - loss: 0.0000e+00 - categorical_accuracy: 1.0000 - val_loss: 0.0000e+00 - val_categorical_accuracy: 1.0000\n",
      "Epoch 14/100\n",
      "1/1 [==============================] - 0s 92ms/step - loss: 0.0000e+00 - categorical_accuracy: 1.0000 - val_loss: 0.0000e+00 - val_categorical_accuracy: 1.0000\n",
      "Epoch 15/100\n",
      "1/1 [==============================] - 0s 93ms/step - loss: 0.0000e+00 - categorical_accuracy: 1.0000 - val_loss: 0.0000e+00 - val_categorical_accuracy: 1.0000\n",
      "Epoch 16/100\n",
      "1/1 [==============================] - 0s 92ms/step - loss: 0.0000e+00 - categorical_accuracy: 1.0000 - val_loss: 0.0000e+00 - val_categorical_accuracy: 1.0000\n",
      "Epoch 17/100\n",
      "1/1 [==============================] - 0s 94ms/step - loss: 0.0000e+00 - categorical_accuracy: 1.0000 - val_loss: 0.0000e+00 - val_categorical_accuracy: 1.0000\n",
      "Epoch 18/100\n",
      "1/1 [==============================] - 0s 88ms/step - loss: 0.0000e+00 - categorical_accuracy: 1.0000 - val_loss: 0.0000e+00 - val_categorical_accuracy: 1.0000\n",
      "Epoch 19/100\n",
      "1/1 [==============================] - 0s 92ms/step - loss: 0.0000e+00 - categorical_accuracy: 1.0000 - val_loss: 0.0000e+00 - val_categorical_accuracy: 1.0000\n",
      "Epoch 20/100\n",
      "1/1 [==============================] - 0s 88ms/step - loss: 0.0000e+00 - categorical_accuracy: 1.0000 - val_loss: 0.0000e+00 - val_categorical_accuracy: 1.0000\n",
      "Epoch 21/100\n",
      "1/1 [==============================] - 0s 110ms/step - loss: 0.0000e+00 - categorical_accuracy: 1.0000 - val_loss: 0.0000e+00 - val_categorical_accuracy: 1.0000\n",
      "2/2 [==============================] - 0s 108ms/step - loss: 0.0000e+00 - categorical_accuracy: 1.0000\n",
      "0.0 1.0\n"
     ]
    }
   ],
   "source": [
    "\n",
    "input_image = Input(shape=(img_size[0],img_size[1], 3) , name='input')\n",
    "\n",
    "c1 = Conv2D(20, (4,4), activation='relu')(input_image)\n",
    "m1 = MaxPool2D((2,2))(c1)\n",
    "\n",
    "c2 = Conv2D(40, (3,3), activation='relu')(m1)\n",
    "m2 = MaxPool2D((2,2))(c2)\n",
    "\n",
    "c3 = Conv2D(60, (3,3), activation='relu')(m2)\n",
    "m3 = MaxPool2D((2,2))(c3)\n",
    "\n",
    "c4 = Conv2D(80, (2,2), activation='sigmoid')(m3)\n",
    "\n",
    "f1 = Flatten()(c4)\n",
    "\n",
    "d1 = Dense(512 , activation='sigmoid')(f1)\n",
    "dropout = Dropout(0.8)(d1)\n",
    "output = Dense(n , activation='softmax')(dropout)\n",
    "\n",
    "model = Model(inputs=[input_image], outputs=[output])\n",
    "\n",
    "\n",
    "model.compile(optimizer='adam', loss= keras.losses.CategoricalCrossentropy(), metrics=keras.metrics.CategoricalAccuracy())\n",
    "\n",
    "epoch = 100\n",
    "batch_size =  256\n",
    "patience = 20\n",
    "callback = keras.callbacks.EarlyStopping(monitor='val_loss' , patience=patience, restore_best_weights=True  )\n",
    "history = model.fit(np.array(X_train), np.array(Y_train), epochs=epoch, batch_size =batch_size,validation_data=( np.array(X_val),np.array(Y_val)) ,callbacks=[callback] , use_multiprocessing = True)\n",
    "# history = model.fit(np.array(X_train), np.array(Y_train), epochs=100, batch_size = 64,validation_data=( np.array(X_val),np.array(Y_val)))\n",
    "\n",
    "# history = model.fit(X_train, Y_train, epochs=epoch ,batch_size=batch_size, validation_data=( X_val,Y_val), callbacks=[callback] )\n",
    "score, acc = model.evaluate(np.array(X_test), np.array(Y_test) )\n",
    "print(score,acc)"
   ],
   "metadata": {
    "collapsed": false,
    "ExecuteTime": {
     "end_time": "2023-06-14T15:14:03.035566700Z",
     "start_time": "2023-06-14T15:13:46.243548100Z"
    }
   }
  },
  {
   "cell_type": "code",
   "execution_count": null,
   "outputs": [],
   "source": [
    "import keras\n",
    "\n",
    "model = Sequential()\n",
    "model.add(Rescaling(1/255., input_shape=(img_size[0],img_size[1],3), name='input'))\n",
    "\n",
    "\n",
    "model.add(Conv2D(32, (4, 4) , activation='relu'))\n",
    "model.add(MaxPooling2D(pool_size=(2, 2) , strides=1))\n",
    "model.add(Dropout(0.3))\n",
    "\n",
    "model.add(Conv2D(64, (3, 3), activation='relu'))\n",
    "model.add(MaxPooling2D(pool_size=(2, 2), strides=1))\n",
    "model.add(Dropout(0.3))\n",
    "\n",
    "model.add(Conv2D(128, (3, 3), activation='relu'))\n",
    "model.add(MaxPooling2D(pool_size=(2, 2),strides=1))\n",
    "model.add(Dropout(0.3))\n",
    "\n",
    "# model.add(Conv2D(64, (3, 3), activation='relu'))\n",
    "\n",
    "\n",
    "\n",
    "model.add(Flatten())\n",
    "\n",
    "model.add(Dense(1024, activation='relu'))\n",
    "model.add(Dropout(0.8))\n",
    "\n",
    "\n",
    "model.add(Dense(n, activation='softmax' , name='output'))\n",
    "\n",
    "# dot_img_file = 'C:\\\\Users\\\\bpk_e.EMRE\\\\Desktop\\\\PROJECTS\\\\chatBot\\\\ImageProcessing\\\\colorFeret\\\\model.png'\n",
    "# tf.keras.utils.plot_model(model, to_file=dot_img_file, show_shapes=True)\n",
    "# opt = tf.keras.optimizers.experimental.SGD(0.05 )\n",
    "# opt =  optimizers.SGD(lr=0.01, decay=1e-6, momentum=0.9, nesterov=True)\n",
    "# opt =  optimizers.Adam(learning_rate=1e-4)\n",
    "# opt =  optimizers.SGD(learning_rate=0.005, decay=1e-6, momentum=0.9, nesterov=True)\n",
    "\n",
    "model.compile(optimizer='adam', loss= keras.losses.CategoricalCrossentropy(), metrics=keras.metrics.CategoricalAccuracy())\n",
    "\n",
    "epoch = 100\n",
    "batch_size =  32\n",
    "patience = 20\n",
    "callback = keras.callbacks.EarlyStopping(monitor='val_loss' , patience=patience, restore_best_weights=True  )\n",
    "history = model.fit(np.array(X_train), np.array(Y_train), epochs=epoch, batch_size =batch_size,validation_data=( np.array(X_val),np.array(Y_val)) ,callbacks=[callback] , use_multiprocessing = True)\n",
    "# history = model.fit(np.array(X_train), np.array(Y_train), epochs=100, batch_size = 64,validation_data=( np.array(X_val),np.array(Y_val)))\n",
    "\n",
    "# history = model.fit(X_train, Y_train, epochs=epoch ,batch_size=batch_size, validation_data=( X_val,Y_val), callbacks=[callback] )\n",
    "score, acc = model.evaluate(np.array(X_test), np.array(Y_test) )\n",
    "print(score,acc)\n",
    "\n"
   ],
   "metadata": {
    "collapsed": false
   }
  },
  {
   "cell_type": "code",
   "execution_count": 32,
   "outputs": [
    {
     "name": "stdout",
     "output_type": "stream",
     "text": [
      "<keras.engine.functional.Functional object at 0x00000228621D1B70>\n",
      "Model: \"model_9\"\n",
      "_________________________________________________________________\n",
      " Layer (type)                Output Shape              Param #   \n",
      "=================================================================\n",
      " input (InputLayer)          [(None, 100, 100, 3)]     0         \n",
      "                                                                 \n",
      " conv2d_36 (Conv2D)          (None, 97, 97, 20)        980       \n",
      "                                                                 \n",
      " max_pooling2d_27 (MaxPoolin  (None, 48, 48, 20)       0         \n",
      " g2D)                                                            \n",
      "                                                                 \n",
      " conv2d_37 (Conv2D)          (None, 46, 46, 40)        7240      \n",
      "                                                                 \n",
      " max_pooling2d_28 (MaxPoolin  (None, 23, 23, 40)       0         \n",
      " g2D)                                                            \n",
      "                                                                 \n",
      " conv2d_38 (Conv2D)          (None, 21, 21, 60)        21660     \n",
      "                                                                 \n",
      " max_pooling2d_29 (MaxPoolin  (None, 10, 10, 60)       0         \n",
      " g2D)                                                            \n",
      "                                                                 \n",
      " conv2d_39 (Conv2D)          (None, 9, 9, 80)          19280     \n",
      "                                                                 \n",
      " flatten_9 (Flatten)         (None, 6480)              0         \n",
      "                                                                 \n",
      " dense_18 (Dense)            (None, 512)               3318272   \n",
      "                                                                 \n",
      " dropout_6 (Dropout)         (None, 512)               0         \n",
      "                                                                 \n",
      " dense_19 (Dense)            (None, 8)                 4104      \n",
      "                                                                 \n",
      "=================================================================\n",
      "Total params: 3,371,536\n",
      "Trainable params: 3,371,536\n",
      "Non-trainable params: 0\n",
      "_________________________________________________________________\n",
      "KerasTensor(type_spec=TensorSpec(shape=(None, 100, 100, 3), dtype=tf.float32, name='input'), name='input', description=\"created by layer 'input'\")\n"
     ]
    },
    {
     "name": "stderr",
     "output_type": "stream",
     "text": [
      "WARNING:absl:Found untraced functions such as _jit_compiled_convolution_op, _jit_compiled_convolution_op, _jit_compiled_convolution_op, _jit_compiled_convolution_op while saving (showing 4 of 4). These functions will not be directly callable after loading.\n"
     ]
    },
    {
     "name": "stdout",
     "output_type": "stream",
     "text": [
      "INFO:tensorflow:Assets written to: C:\\Users\\bpk_e.EMRE\\Desktop\\PROJECTS\\chatBot\\ImageProcessing\\fr_model_3\\assets\n"
     ]
    },
    {
     "name": "stderr",
     "output_type": "stream",
     "text": [
      "INFO:tensorflow:Assets written to: C:\\Users\\bpk_e.EMRE\\Desktop\\PROJECTS\\chatBot\\ImageProcessing\\fr_model_3\\assets\n"
     ]
    }
   ],
   "source": [
    "# Saved TF model path\n",
    "print(model)\n",
    "model.summary()\n",
    "layer = model.get_layer('input')\n",
    "\n",
    "print(layer.input)\n",
    "# Directory to export new model\n",
    "\n",
    "model.save(\"C:\\\\Users\\\\bpk_e.EMRE\\\\Desktop\\\\PROJECTS\\\\chatBotLastPhase\\\\ImageProcessing\\\\Model\\\\fr_model_3\")"
   ],
   "metadata": {
    "collapsed": false,
    "ExecuteTime": {
     "end_time": "2023-06-14T13:14:40.086805200Z",
     "start_time": "2023-06-14T13:14:38.174580700Z"
    }
   }
  },
  {
   "cell_type": "code",
   "execution_count": 31,
   "outputs": [
    {
     "name": "stdout",
     "output_type": "stream",
     "text": [
      "{0: 'Anna', 1: 'Colin_Powell', 2: 'Donald_Rumsfeld', 3: 'Emre_Karabulut', 4: 'Gabrijel', 5: 'George_W_Bush', 6: 'Gerhard_Schroeder', 7: 'Tony_Blair'}\n"
     ]
    }
   ],
   "source": [
    "# labels = np.flip(np.unique(Y_train,axis=0),1)\n",
    "\n",
    "labels = np.unique(Y_filtered)\n",
    "indices = range(0,len(labels))\n",
    "dict_ = {indices[i]: labels[i] for i in range(len(labels))}\n",
    "\n",
    "print(dict_)\n",
    "import json\n",
    "with open('C:\\\\Users\\\\bpk_e.EMRE\\\\Desktop\\\\PROJECTS\\\\chatBotLastPhase\\\\ImageProcessing\\\\Model\\\\labels.json', 'w') as f:\n",
    "    json.dump(dict_, f)"
   ],
   "metadata": {
    "collapsed": false,
    "ExecuteTime": {
     "end_time": "2023-06-14T13:14:23.851263600Z",
     "start_time": "2023-06-14T13:14:23.804769600Z"
    }
   }
  },
  {
   "cell_type": "code",
   "execution_count": null,
   "outputs": [],
   "source": [
    "\n",
    "# index = 14\n",
    "# img = X_train[index]\n",
    "# label_encoded = Y_train[index]\n",
    "# label_index = np.where(label_encoded == 1 )[0]\n",
    "# label = labels[label_index]\n",
    "# print(label)\n",
    "img = cv2.imread('C:\\\\Users\\\\bpk_e.EMRE\\\\Desktop\\\\PROJECTS\\\\chatBot\\\\ImageProcessing\\\\lfw\\\\Emre_Karabulut\\\\Emre.1.jpg',0)\n",
    "# img = hist_eq(img)\n",
    "img = cv2.resize(img, img_size , cv2.INTER_AREA)\n",
    "img_array = tf.keras.utils.img_to_array(img)\n",
    "img_array = tf.expand_dims(img_array, 0)\n",
    "\n",
    "predictions = model.predict(img_array)\n",
    "print(predictions * 100 )\n",
    "\n",
    "print(\n",
    "    \"This image most likely belongs to {} with a {:.2f} percent confidence.\"\n",
    "    .format(labels[np.argmax(predictions[0] )], 100 * np.max(predictions[0]))\n",
    ")\n"
   ],
   "metadata": {
    "collapsed": false
   }
  },
  {
   "cell_type": "code",
   "execution_count": null,
   "outputs": [],
   "source": [
    "import matplotlib.pyplot as plt\n",
    "\n",
    "history_dict = history.history\n",
    "loss_values = history_dict['loss']\n",
    "val_loss_values = history_dict['val_loss']\n",
    "accuracy = history_dict['categorical_accuracy']\n",
    "val_accuracy = history_dict['val_categorical_accuracy']\n",
    "\n",
    "epochs = range(1, len(loss_values) + 1)\n",
    "fig, ax = plt.subplots(1, 2, figsize=(14, 6))\n",
    "#\n",
    "# Plot the model accuracy vs Epochs\n",
    "#\n",
    "ax[0].plot(epochs, accuracy, label='Training accuracy')\n",
    "ax[0].plot(epochs, val_accuracy, label='Validation accuracy')\n",
    "ax[0].set_title('Training & Validation Accuracy', fontsize=16)\n",
    "ax[0].set_xlabel('Epochs', fontsize=16)\n",
    "ax[0].set_ylabel('Accuracy', fontsize=16)\n",
    "ax[0].legend()\n",
    "#\n",
    "# Plot the loss vs Epochs\n",
    "#\n",
    "ax[1].plot(epochs, loss_values, label='Training loss')\n",
    "ax[1].plot(epochs, val_loss_values, label='Validation loss')\n",
    "ax[1].set_title('Training & Validation Loss', fontsize=16)\n",
    "ax[1].set_xlabel('Epochs', fontsize=16)\n",
    "ax[1].set_ylabel('Loss', fontsize=16)\n",
    "ax[1].legend()\n",
    "\n"
   ],
   "metadata": {
    "collapsed": false
   }
  },
  {
   "cell_type": "code",
   "execution_count": null,
   "outputs": [],
   "source": [
    "# reset_gpu_memory()"
   ],
   "metadata": {
    "collapsed": false
   }
  },
  {
   "cell_type": "code",
   "execution_count": null,
   "outputs": [],
   "source": [
    "# face_classifier = cv2.CascadeClassifier(\"C:\\\\Users\\\\bpk_e.EMRE\\\\Desktop\\\\PROJECTS\\\\chatBot\\\\ImageProcessing\\\\haarcascade_frontalface_default.xml\")\n",
    "# def face_cropped(img):\n",
    "#     gray = cv2.cvtColor(img, cv2.COLOR_BGR2GRAY)\n",
    "#     faces = face_classifier.detectMultiScale(gray, scaleFactor=1.1, minNeighbors=5)\n",
    "#\n",
    "#     if len(faces) == 0:\n",
    "#         print(\"NO FACE DETECTED!!\")\n",
    "#         return None\n",
    "#     for (x, y, w, h) in faces:\n",
    "#         margin = 10\n",
    "#         cropped_face = img[y-margin:y + h+margin, x-margin:x + w+margin]\n",
    "#     return cropped_face\n",
    "#\n",
    "#\n",
    "# def generate_dataset(name):\n",
    "#     cap = cv2.VideoCapture(0)\n",
    "#\n",
    "#     img_id = 0\n",
    "#     print(\"usao\")\n",
    "#     while True:\n",
    "#         ret, frame = cap.read()\n",
    "#         if face_cropped(frame) is not None:\n",
    "#             img_id += 1\n",
    "#             face = cv2.resize(face_cropped(frame), (224, 224))\n",
    "#             face = cv2.cvtColor(face, cv2.COLOR_BGR2GRAY)\n",
    "#\n",
    "#             file_name_path = \"Images\\\\\" + name + \"_\" + str(img_id) + '.jpg'\n",
    "#             cv2.imwrite(file_name_path, face)\n",
    "#             # cv2.putText(face, str(img_id), (224, 224), cv2.FONT_HERSHEY_COMPLEX, 1, (0, 255, 0), 2)\n",
    "#\n",
    "#             cv2.imshow(\"Cropped_Face\", face)\n",
    "#             if cv2.waitKey(1) == 13 or int(img_id) == 100:\n",
    "#                 break\n",
    "#\n",
    "#     cap.release()\n",
    "#     cv2.destroyAllWindows()\n",
    "#     print(\"Collecting samples is completed !!!\")\n",
    "# generate_dataset(\"emre\")"
   ],
   "metadata": {
    "collapsed": false
   }
  },
  {
   "cell_type": "code",
   "execution_count": null,
   "outputs": [],
   "source": [],
   "metadata": {
    "collapsed": false
   }
  }
 ],
 "metadata": {
  "kernelspec": {
   "display_name": "Python 3",
   "language": "python",
   "name": "python3"
  },
  "language_info": {
   "codemirror_mode": {
    "name": "ipython",
    "version": 2
   },
   "file_extension": ".py",
   "mimetype": "text/x-python",
   "name": "python",
   "nbconvert_exporter": "python",
   "pygments_lexer": "ipython2",
   "version": "2.7.6"
  }
 },
 "nbformat": 4,
 "nbformat_minor": 0
}
