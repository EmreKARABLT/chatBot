{
 "cells": [
  {
   "cell_type": "code",
   "execution_count": 1,
   "metadata": {
    "collapsed": true,
    "ExecuteTime": {
     "end_time": "2023-06-26T12:17:59.386979Z",
     "start_time": "2023-06-26T12:17:36.016918600Z"
    }
   },
   "outputs": [
    {
     "name": "stdout",
     "output_type": "stream",
     "text": [
      "[PhysicalDevice(name='/physical_device:GPU:0', device_type='GPU')]\n"
     ]
    }
   ],
   "source": [
    "import cv2\n",
    "from keras import Model\n",
    "from keras.layers import Conv2D, Flatten, Dense , Input , MaxPool2D , RandomZoom , RandomFlip , RandomRotation\n",
    "from sklearn.model_selection import train_test_split , StratifiedKFold\n",
    "from sklearn.preprocessing import LabelBinarizer , LabelEncoder\n",
    "import matplotlib.pyplot as plt\n",
    "from keras.layers import Rescaling,Dropout\n",
    "import numpy as np\n",
    "import tensorflow as tf\n",
    "from tensorflow import keras\n",
    "import os\n",
    "from sklearn.datasets import fetch_lfw_people\n",
    "\n",
    "\n",
    "print(tf.config.list_physical_devices('GPU'))\n"
   ]
  },
  {
   "cell_type": "code",
   "execution_count": 4,
   "outputs": [],
   "source": [
    "class database():\n",
    "    def __init__(self , path_face_classifier , path_IMAGE_DIR):\n",
    "        self.face_classifier = cv2.CascadeClassifier(path_face_classifier)\n",
    "        self.IMAGE_DIR = path_IMAGE_DIR\n",
    "\n",
    "    def my_data(self , height , width ):\n",
    "\n",
    "        x_train = []\n",
    "        y_labels = []\n",
    "        for root, directories, files in os.walk(self.IMAGE_DIR):\n",
    "\n",
    "            for file in files:\n",
    "                if file.endswith(\"png\") or file.endswith(\"jpg\") :\n",
    "                    path = os.path.join(root, file)\n",
    "\n",
    "                    label = os.path.basename(os.path.dirname(path))\n",
    "\n",
    "                    image = cv2.imread(path)\n",
    "                    gray = cv2.cvtColor(image,cv2.COLOR_BGR2GRAY)\n",
    "\n",
    "\n",
    "                    faces = self.face_classifier.detectMultiScale(gray, scaleFactor=1.1, minNeighbors=5)\n",
    "\n",
    "\n",
    "\n",
    "                    for x, y, w, h in faces:\n",
    "\n",
    "                        rect_gray = gray[y:y + h, x:x + w]\n",
    "                        rect_gray = cv2.resize(rect_gray, (height, width), interpolation=cv2.INTER_CUBIC)\n",
    "\n",
    "\n",
    "                        x_train.append(rect_gray)\n",
    "                        y_labels.append(label)\n",
    "\n",
    "\n",
    "        return x_train , y_labels\n",
    "\n"
   ],
   "metadata": {
    "collapsed": false,
    "ExecuteTime": {
     "end_time": "2023-06-26T12:19:05.690423600Z",
     "start_time": "2023-06-26T12:19:05.680449300Z"
    }
   }
  },
  {
   "cell_type": "code",
   "execution_count": 5,
   "outputs": [],
   "source": [
    "face_classifier_path = \"..\\\\..\\\\src\\\\main\\\\java\\\\Face\\\\haarcascade_frontalface_default.xml\"\n",
    "IMAGE_DIR = \"..\\\\Data\\\\Images\"\n",
    "\n",
    "x_images, y_labels = database(path_face_classifier=face_classifier_path, path_IMAGE_DIR = IMAGE_DIR).my_data(height=100, width=100)\n",
    "\n",
    "len(x_images)\n",
    "\n",
    "X = np.array(x_images)\n",
    "Y = np.array(y_labels)"
   ],
   "metadata": {
    "collapsed": false,
    "ExecuteTime": {
     "end_time": "2023-06-26T12:19:19.559734500Z",
     "start_time": "2023-06-26T12:19:06.086350300Z"
    }
   }
  },
  {
   "cell_type": "code",
   "execution_count": 4,
   "outputs": [],
   "source": [
    "# a = fetch_lfw_people(funneled=True , min_faces_per_person = 50 , download_if_missing = True )\n",
    "# x_images = a.images\n",
    "# y_labels = a.target\n",
    "#\n",
    "# idx = np.argsort(y_labels)\n",
    "#\n",
    "# X = np.array(x_images[idx])\n",
    "# Y = np.array(y_labels)[idx]"
   ],
   "metadata": {
    "collapsed": false,
    "ExecuteTime": {
     "end_time": "2023-06-25T13:05:25.685639Z",
     "start_time": "2023-06-25T13:05:25.674501100Z"
    }
   }
  },
  {
   "cell_type": "code",
   "execution_count": 6,
   "outputs": [
    {
     "name": "stdout",
     "output_type": "stream",
     "text": [
      "total length  679\n",
      "n 7\n"
     ]
    },
    {
     "data": {
      "text/plain": "<matplotlib.image.AxesImage at 0x1e9306ad660>"
     },
     "execution_count": 6,
     "metadata": {},
     "output_type": "execute_result"
    },
    {
     "data": {
      "text/plain": "<Figure size 640x480 with 1 Axes>",
      "image/png": "[encoded data removed]"
     },
     "metadata": {},
     "output_type": "display_data"
    }
   ],
   "source": [
    "X_filtered = []\n",
    "Y_filtered = []\n",
    "\n",
    "\n",
    "max_number_of_images_per_person_in_dataset = 1000\n",
    "number_of_people = 12\n",
    "\n",
    "\n",
    "for i in np.unique(Y):\n",
    "    first_index = np.where(Y == i)[0][0]\n",
    "    max_ = len(np.where(Y==i)[0])\n",
    "    # print(f\"label {i} , number of images {max_}\" )\n",
    "    for j in range( min( max_ , max_number_of_images_per_person_in_dataset) ):\n",
    "        if(Y[j+first_index] == i):\n",
    "            x = X[j+first_index]\n",
    "            y = Y[j+first_index]\n",
    "\n",
    "            X_filtered.append(x)\n",
    "            Y_filtered.append(y)\n",
    "\n",
    "    if len(np.unique(Y_filtered)) >= number_of_people:\n",
    "        break\n",
    "\n",
    "print(\"total length \", len(X_filtered))\n",
    "\n",
    "n = len(np.unique(Y_filtered))\n",
    "print(\"n\" , n)\n",
    "\n",
    "plt.imshow(X_filtered[8] , cmap='gray')"
   ],
   "metadata": {
    "collapsed": false,
    "ExecuteTime": {
     "end_time": "2023-06-26T12:19:19.812981500Z",
     "start_time": "2023-06-26T12:19:19.564721300Z"
    }
   }
  },
  {
   "cell_type": "code",
   "execution_count": 7,
   "outputs": [
    {
     "name": "stdout",
     "output_type": "stream",
     "text": [
      "380 163 136\n",
      "380 163 136\n"
     ]
    }
   ],
   "source": [
    "encoder = LabelBinarizer()\n",
    "\n",
    "Y_encoded = encoder.fit_transform(Y_filtered)\n",
    "\n",
    "X_train, X_test, Y_train, Y_test = train_test_split(X_filtered,Y_encoded,test_size = 0.2 , stratify= Y_encoded, shuffle=True )\n",
    "X_train, X_val, Y_train, Y_val = train_test_split(X_train,Y_train,test_size = 0.3 ,stratify=Y_train, shuffle=True )\n",
    "\n",
    "print(len(X_train) , len(X_val) , len(X_test))\n",
    "print(len(Y_train), len(Y_val), len(Y_test))"
   ],
   "metadata": {
    "collapsed": false,
    "ExecuteTime": {
     "end_time": "2023-06-26T12:19:19.883750100Z",
     "start_time": "2023-06-26T12:19:19.815975900Z"
    }
   }
  },
  {
   "cell_type": "code",
   "execution_count": 8,
   "outputs": [],
   "source": [
    "img_size = X_train[0].shape\n",
    "\n",
    "\n",
    "def create_model():\n",
    "    input_image = Input(shape=(img_size[0],img_size[1], 1) , name='input')\n",
    "\n",
    "    rescale = Rescaling(1/255)(input_image)\n",
    "\n",
    "    c1 = Conv2D(32, (4,4), activation='relu')(rescale)\n",
    "    m1 = MaxPool2D((2,2))(c1)\n",
    "\n",
    "    c2 = Conv2D(64, (3,3), activation='relu')(m1)\n",
    "    m2 = MaxPool2D((2,2))(c2)\n",
    "    f1 = Flatten()(m2)\n",
    "\n",
    "    d1 = Dense(128  , activation='sigmoid')(f1)\n",
    "\n",
    "    output = Dense(n , activation='softmax')(d1)\n",
    "\n",
    "    model = Model(inputs=[input_image], outputs=[output])\n",
    "    model.compile(optimizer='adam', loss= keras.losses.CategoricalCrossentropy(), metrics=keras.metrics.CategoricalAccuracy())\n",
    "\n",
    "    return model\n"
   ],
   "metadata": {
    "collapsed": false,
    "ExecuteTime": {
     "end_time": "2023-06-26T12:19:19.883750100Z",
     "start_time": "2023-06-26T12:19:19.849836100Z"
    }
   }
  },
  {
   "cell_type": "code",
   "execution_count": 8,
   "outputs": [
    {
     "name": "stdout",
     "output_type": "stream",
     "text": [
      "5/5 [==============================] - 0s 22ms/step - loss: 0.0056 - categorical_accuracy: 1.0000\n"
     ]
    }
   ],
   "source": [
    "epoch = 30\n",
    "batch_size = 64\n",
    "patience = 3\n",
    "callback = keras.callbacks.EarlyStopping(monitor='val_loss' , patience=patience, restore_best_weights=True  )\n",
    "\n",
    "final_model = create_model()\n",
    "history = final_model.fit(np.array(X_train), np.array(Y_train), epochs=epoch, batch_size =batch_size,validation_data=( np.array(X_val),np.array(Y_val)) ,callbacks=[callback] , use_multiprocessing = True , verbose = 0 )\n",
    "#\n",
    "score, acc = final_model.evaluate(np.array(X_test), np.array(Y_test) )"
   ],
   "metadata": {
    "collapsed": false,
    "ExecuteTime": {
     "end_time": "2023-06-25T13:05:48.087192200Z",
     "start_time": "2023-06-25T13:05:25.923139300Z"
    }
   }
  },
  {
   "cell_type": "markdown",
   "source": [
    "## SAVE MODEL AND LABELS"
   ],
   "metadata": {
    "collapsed": false
   }
  },
  {
   "cell_type": "code",
   "execution_count": 9,
   "outputs": [
    {
     "name": "stdout",
     "output_type": "stream",
     "text": [
      "INFO:tensorflow:Assets written to: ..\\Model\\final_model\\assets\n",
      "{0: 'Akhilesh', 1: 'Anna', 2: 'Emmanuel', 3: 'Emre', 4: 'Gabrijel', 5: 'Joshua', 6: 'Lea'}\n"
     ]
    }
   ],
   "source": [
    "# Directory to export new model\n",
    "final_model.save(\"..\\\\Model\\\\final_model\")\n",
    "\n",
    "\n",
    "labels = np.unique(Y_filtered)\n",
    "indices = range(0,len(labels))\n",
    "dict_ = {indices[i]: labels[i] for i in range(len(labels))}\n",
    "\n",
    "print(dict_)\n",
    "import json\n",
    "with open('..\\\\Model\\\\labels.json', 'w') as f:\n",
    "    json.dump(dict_, f)"
   ],
   "metadata": {
    "collapsed": false,
    "ExecuteTime": {
     "end_time": "2023-06-25T13:05:49.446426900Z",
     "start_time": "2023-06-25T13:05:48.097166100Z"
    }
   }
  },
  {
   "cell_type": "markdown",
   "source": [
    "### EXPERIMENTS DCNN (10-Folder Cross Validation)"
   ],
   "metadata": {
    "collapsed": false
   }
  },
  {
   "cell_type": "code",
   "execution_count": null,
   "outputs": [],
   "source": [
    "from sklearn.model_selection import KFold\n",
    "\n",
    "skf = KFold(n_splits=10, shuffle=True )\n",
    "acc_per_fold = []\n",
    "loss_per_fold = []\n",
    "models = []\n",
    "# K-fold Cross Validation model evaluation\n",
    "\n",
    "fold_no = 1\n",
    "for k, (train_index, val_index) in enumerate(skf.split(X_filtered, Y_filtered)):\n",
    "\n",
    "    X_new_train = []\n",
    "    for i in train_index:\n",
    "        X_new_train.append(X_filtered[i])\n",
    "\n",
    "    X_new_val = []\n",
    "    for j in val_index:\n",
    "        X_new_val.append(X_filtered[j])\n",
    "    print('------------------------------------------------------------------------')\n",
    "    print(f'Training for fold {fold_no} ...')\n",
    "    model = create_model()\n",
    "\n",
    "    history = model.fit(np.array(X_new_train), Y_encoded[train_index], epochs=epoch, batch_size =batch_size, validation_data=(np.array(X_val), np.array(Y_val)), callbacks=[callback], use_multiprocessing = True, verbose=0)\n",
    "\n",
    "    models.append(model)\n",
    "\n",
    "    scores = model.evaluate(np.array(X_new_val), Y_encoded[val_index], verbose=0)\n",
    "    print(f'Score for fold {fold_no}: {model.metrics_names[0]} of {scores[0]}; {model.metrics_names[1]} of {scores[1]*100}%')\n",
    "    acc_per_fold.append(scores[1] * 100)\n",
    "    loss_per_fold.append(scores[0])\n",
    "\n",
    "  # Increase fold number\n",
    "    fold_no = fold_no + 1\n",
    "\n",
    "\n",
    "max_index = acc_per_fold.index(max(acc_per_fold))\n",
    "final_model = models[max_index]\n",
    "\n",
    "print(np.array(acc_per_fold).mean())"
   ],
   "metadata": {
    "collapsed": false
   }
  },
  {
   "cell_type": "markdown",
   "source": [
    "### EXPERIMENTS OTHER CLASSIFIERS (10-Folder Cross Validation)"
   ],
   "metadata": {
    "collapsed": false
   }
  },
  {
   "cell_type": "code",
   "execution_count": null,
   "outputs": [],
   "source": [
    "def eval_(y , y_hat):\n",
    "    counter = 0\n",
    "    for a , b in zip(y,y_hat):\n",
    "        if a == b :\n",
    "            counter += 1\n",
    "\n",
    "    return counter / len(y)"
   ],
   "metadata": {
    "collapsed": false
   }
  },
  {
   "cell_type": "code",
   "execution_count": null,
   "outputs": [],
   "source": [
    "\n",
    "from sklearn.model_selection import  KFold\n",
    "skf = KFold(n_splits=10, shuffle=True )\n",
    "\n",
    "\n",
    "le = LabelEncoder()\n",
    "Y_int_labels = le.fit_transform(Y_filtered)\n",
    "\n",
    "acc_per_fold_lbph = []\n",
    "# K-fold Cross Validation model evaluation\n",
    "fold_no = 1\n",
    "for k, (train_index, val_index) in enumerate(skf.split(X_filtered, Y_int_labels)):\n",
    "\n",
    "    model_lbhf = cv2.face.FisherFaceRecognizer.create()\n",
    "\n",
    "    X_new_train = []\n",
    "    Y_new_train = []\n",
    "\n",
    "    for i in train_index:\n",
    "        X_new_train.append(X_filtered[i])\n",
    "        Y_new_train.append(Y_int_labels[i])\n",
    "\n",
    "    X_new_val = []\n",
    "    Y_new_val = []\n",
    "    for j in val_index:\n",
    "        X_new_val.append(X_filtered[j])\n",
    "        Y_new_val.append(Y_int_labels[j])\n",
    "    model_lbhf.train(np.array(X_new_train) ,  np.array(Y_new_train))\n",
    "\n",
    "    y_predictions = []\n",
    "\n",
    "    for test_instance in X_new_val:\n",
    "        test_pred = model_lbhf.predict(np.array(test_instance))\n",
    "        y_predictions.append(test_pred[0])\n",
    "\n",
    "    acc = eval_(Y_new_val , y_predictions)\n",
    "    acc_per_fold_lbph.append(acc)\n",
    "\n",
    "print(np.array(acc_per_fold_lbph).mean() * 100)"
   ],
   "metadata": {
    "collapsed": false
   }
  },
  {
   "cell_type": "code",
   "execution_count": null,
   "outputs": [],
   "source": [
    "import matplotlib.pyplot as plt\n",
    "\n",
    "history_dict = history.history\n",
    "loss_values = history_dict['loss']\n",
    "val_loss_values = history_dict['val_loss']\n",
    "accuracy = history_dict['categorical_accuracy']\n",
    "val_accuracy = history_dict['val_categorical_accuracy']\n",
    "\n",
    "epochs = range(1, len(loss_values) + 1)\n",
    "fig, ax = plt.subplots(1, 2, figsize=(14, 6))\n",
    "#\n",
    "# Plot the model accuracy vs Epochs\n",
    "#\n",
    "ax[0].plot(epochs, accuracy, label='Training accuracy')\n",
    "ax[0].plot(epochs, val_accuracy, label='Validation accuracy')\n",
    "ax[0].set_title('Training & Validation Accuracy', fontsize=16)\n",
    "ax[0].set_xlabel('Epochs', fontsize=16)\n",
    "ax[0].set_ylabel('Accuracy', fontsize=16)\n",
    "ax[0].legend()\n",
    "#\n",
    "# Plot the loss vs Epochs\n",
    "#\n",
    "ax[1].plot(epochs, loss_values, label='Training loss')\n",
    "ax[1].plot(epochs, val_loss_values, label='Validation loss')\n",
    "ax[1].set_title('Training & Validation Loss', fontsize=16)\n",
    "ax[1].set_xlabel('Epochs', fontsize=16)\n",
    "ax[1].set_ylabel('Loss', fontsize=16)\n",
    "ax[1].legend()\n",
    "\n"
   ],
   "metadata": {
    "collapsed": false
   }
  },
  {
   "cell_type": "code",
   "execution_count": null,
   "outputs": [],
   "source": [
    "# plt.savefig(\"LFW - min 50\")"
   ],
   "metadata": {
    "collapsed": false
   }
  },
  {
   "cell_type": "code",
   "execution_count": 9,
   "outputs": [
    {
     "data": {
      "text/plain": "<PIL.Image.Image image mode=RGBA size=320x649>",
      "image/png": "[encoded data removed]"
     },
     "execution_count": 9,
     "metadata": {},
     "output_type": "execute_result"
    }
   ],
   "source": [
    "from PIL import ImageFont\n",
    "import visualkeras\n",
    "image_ = create_model()\n",
    "font = ImageFont.truetype(\"arial.ttf\", 15)  # using comic sans is strictly prohibited!\n",
    "visualkeras.layered_view(image_, legend=True, font=font ,type_ignore=[RandomZoom, RandomFlip, RandomRotation , Flatten ,Dropout] , to_file='output.png')  # font is optional!"
   ],
   "metadata": {
    "collapsed": false,
    "ExecuteTime": {
     "end_time": "2023-06-26T12:19:34.877004Z",
     "start_time": "2023-06-26T12:19:32.213116500Z"
    }
   }
  },
  {
   "cell_type": "code",
   "execution_count": null,
   "outputs": [],
   "source": [
    "# def data_aug(x_images, y_labels , copy_number_per_image):\n",
    "#     data = []\n",
    "#     labels = []\n",
    "#     for i in range(len(x_images)):\n",
    "#         img = x_images[i]\n",
    "#         label = y_labels[i]\n",
    "#\n",
    "#         for j in range(copy_number_per_image):\n",
    "#\n",
    "#             img_ = tf.image.stateless_random_brightness(img, max_delta=0.02, seed=(1, 2))\n",
    "#             img_ = tf.image.stateless_random_contrast(img_, lower=0.6, upper=1, seed=(1,3))\n",
    "#             img_ = tf.image.stateless_random_flip_left_right(img_, seed=(np.random.randint(100),np.random.randint(100)))\n",
    "#             img_ = tf.image.stateless_random_jpeg_quality(img_, min_jpeg_quality=90, max_jpeg_quality=100, seed=(np.random.randint(100),np.random.randint(100)))\n",
    "#             img_ = tf.image.stateless_random_saturation(img_, lower=0.9,upper=1, seed=(np.random.randint(100),np.random.randint(100)))\n",
    "#\n",
    "#             data.append(img_)\n",
    "#             labels.append(label)\n",
    "#     print(len(data), len(labels))\n",
    "#     return data , labels"
   ],
   "metadata": {
    "collapsed": false
   }
  }
 ],
 "metadata": {
  "kernelspec": {
   "display_name": "Python 3",
   "language": "python",
   "name": "python3"
  },
  "language_info": {
   "codemirror_mode": {
    "name": "ipython",
    "version": 2
   },
   "file_extension": ".py",
   "mimetype": "text/x-python",
   "name": "python",
   "nbconvert_exporter": "python",
   "pygments_lexer": "ipython2",
   "version": "2.7.6"
  }
 },
 "nbformat": 4,
 "nbformat_minor": 0
}
